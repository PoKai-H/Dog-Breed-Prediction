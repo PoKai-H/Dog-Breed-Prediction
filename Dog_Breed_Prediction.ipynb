{
  "cells": [
    {
      "cell_type": "markdown",
      "metadata": {
        "id": "view-in-github",
        "colab_type": "text"
      },
      "source": [
        "<a href=\"https://colab.research.google.com/github/PoKai-H/Dog-Breed-Prediction/blob/master/Dog_Breed_Prediction.ipynb\" target=\"_parent\"><img src=\"https://colab.research.google.com/assets/colab-badge.svg\" alt=\"Open In Colab\"/></a>"
      ]
    },
    {
      "cell_type": "markdown",
      "metadata": {
        "id": "7b8zXzsDyOSQ"
      },
      "source": [
        "Using Keras and Tensorflow to build train and test a convolutional neural network capable of identifying the breed of a dog in a supplied image<br><br>\n",
        "1.Loading the data from kaggle to colab<br>\n",
        "2.load labels csv for labels that contain image ID and Breed<br>\n",
        "3.Checking the breed Count<br>\n",
        "4.One-Hot encoding on labels data prediction column<br>\n",
        "5.load the images, convert them to an array, and normalize them<br>\n",
        "6.Check the shape abd size of the x and y data<br>\n",
        "7.Building the model network architecture<br>\n",
        "8.Split the data and fit it into the mofel and create an accuracy plot<br>\n",
        "9.Evaluate the model for accuracy score<br>\n",
        "10.Using the model for prediction<br>"
      ]
    },
    {
      "cell_type": "code",
      "execution_count": 4,
      "metadata": {
        "colab": {
          "base_uri": "https://localhost:8080/",
          "height": 92,
          "resources": {
            "http://localhost:8080/nbextensions/google.colab/files.js": {
              "data": "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",
              "headers": [
                [
                  "content-type",
                  "application/javascript"
                ]
              ],
              "ok": true,
              "status": 200,
              "status_text": ""
            }
          }
        },
        "id": "n1YdS7lyygPm",
        "outputId": "fd952720-c82e-4f23-bf9b-21ac0e66a18b"
      },
      "outputs": [
        {
          "output_type": "display_data",
          "data": {
            "text/plain": [
              "<IPython.core.display.HTML object>"
            ],
            "text/html": [
              "\n",
              "     <input type=\"file\" id=\"files-6bb0d9e1-dc70-4b50-835b-9167a9aff044\" name=\"files[]\" multiple disabled\n",
              "        style=\"border:none\" />\n",
              "     <output id=\"result-6bb0d9e1-dc70-4b50-835b-9167a9aff044\">\n",
              "      Upload widget is only available when the cell has been executed in the\n",
              "      current browser session. Please rerun this cell to enable.\n",
              "      </output>\n",
              "      <script src=\"/nbextensions/google.colab/files.js\"></script> "
            ]
          },
          "metadata": {}
        },
        {
          "output_type": "stream",
          "name": "stdout",
          "text": [
            "Saving kaggle.json to kaggle (1).json\n"
          ]
        },
        {
          "output_type": "execute_result",
          "data": {
            "text/plain": [
              "{'kaggle.json': b'{\"username\":\"pokaihuang31\",\"key\":\"b855894f89dda42bb800e2a6fba16729\"}'}"
            ]
          },
          "metadata": {},
          "execution_count": 4
        }
      ],
      "source": [
        "from google.colab import files\n",
        "files.upload()"
      ]
    },
    {
      "cell_type": "code",
      "execution_count": 5,
      "metadata": {
        "id": "Pct2lf-P08rq"
      },
      "outputs": [],
      "source": [
        "!pip install -q kaggle"
      ]
    },
    {
      "cell_type": "code",
      "execution_count": 6,
      "metadata": {
        "id": "cBL5B_iiIvmm"
      },
      "outputs": [],
      "source": [
        "!mkdir -p ~/.kaggle\n",
        "!cp kaggle.json ~/.kaggle\n",
        "!chmod 600 ~/.kaggle/kaggle.json"
      ]
    },
    {
      "cell_type": "markdown",
      "metadata": {
        "id": "NJN5Qt0vJt2t"
      },
      "source": [
        "Setting up Kaggle using Kaggle API"
      ]
    },
    {
      "cell_type": "code",
      "execution_count": 7,
      "metadata": {
        "colab": {
          "base_uri": "https://localhost:8080/"
        },
        "id": "o5V_o-OTJq03",
        "outputId": "0a42a67f-cd1b-417d-8050-f555fe9b5933"
      },
      "outputs": [
        {
          "output_type": "stream",
          "name": "stdout",
          "text": [
            "mkdir: cannot create directory ‘dog_dataset’: File exists\n",
            "/content/dog_dataset\n"
          ]
        }
      ],
      "source": [
        "!mkdir dog_dataset\n",
        "%cd dog_dataset"
      ]
    },
    {
      "cell_type": "code",
      "execution_count": 8,
      "metadata": {
        "colab": {
          "base_uri": "https://localhost:8080/"
        },
        "id": "4c_5sag8J9C7",
        "outputId": "bfc198c4-f0df-47b0-9eb0-b3b48f7c08ad"
      },
      "outputs": [
        {
          "output_type": "stream",
          "name": "stdout",
          "text": [
            "ref                                title                    size  lastUpdated          downloadCount  voteCount  usabilityRating  \n",
            "---------------------------------  ----------------------  -----  -------------------  -------------  ---------  ---------------  \n",
            "catherinehorng/dogbreedidfromcomp  dog-breed-id-from-comp  691MB  2020-06-26 03:09:05           1696          6  0.1764706        \n"
          ]
        }
      ],
      "source": [
        "!kaggle datasets list -s dogbreedidfromcomp"
      ]
    },
    {
      "cell_type": "markdown",
      "metadata": {
        "id": "BWQh9HPeKcgE"
      },
      "source": [
        "Searching Kaggle for the required dataset using search options with title 'dogbreedidfromcomp'. We can also use different search options like searching competitions, notebooks, kernels, datasets, etc."
      ]
    },
    {
      "cell_type": "code",
      "execution_count": 9,
      "metadata": {
        "colab": {
          "base_uri": "https://localhost:8080/"
        },
        "id": "X5xCofh0K1WI",
        "outputId": "1dae6ed2-e518-405d-907f-c981f2551045"
      },
      "outputs": [
        {
          "output_type": "stream",
          "name": "stdout",
          "text": [
            "Downloading dogbreedidfromcomp.zip to /content/dog_dataset\n",
            " 96% 666M/691M [00:02<00:00, 297MB/s]\n",
            "100% 691M/691M [00:02<00:00, 279MB/s]\n",
            "/content\n"
          ]
        }
      ],
      "source": [
        "!kaggle datasets download catherinehorng/dogbreedidfromcomp\n",
        "%cd .."
      ]
    },
    {
      "cell_type": "code",
      "execution_count": 10,
      "metadata": {
        "colab": {
          "base_uri": "https://localhost:8080/"
        },
        "id": "z1yWo05eNacn",
        "outputId": "2d7c4f30-b37a-4ecc-fd1a-853dfa33baec"
      },
      "outputs": [
        {
          "output_type": "stream",
          "name": "stdout",
          "text": [
            "Archive:  dog_dataset/dogbreedidfromcomp.zip\n",
            "replace dog_dataset/labels.csv? [y]es, [n]o, [A]ll, [N]one, [r]ename: y\n",
            "  inflating: dog_dataset/labels.csv  \n",
            "replace dog_dataset/sample_submission.csv? [y]es, [n]o, [A]ll, [N]one, [r]ename: yes\n",
            "  inflating: dog_dataset/sample_submission.csv  \n",
            "replace dog_dataset/test/000621fb3cbb32d8935728e48679680e.jpg? [y]es, [n]o, [A]ll, [N]one, [r]ename: \n",
            "error:  invalid response [{ENTER}]\n",
            "replace dog_dataset/test/000621fb3cbb32d8935728e48679680e.jpg? [y]es, [n]o, [A]ll, [N]one, [r]ename: [y]\n",
            "error:  invalid response [[y]]\n",
            "replace dog_dataset/test/000621fb3cbb32d8935728e48679680e.jpg? [y]es, [n]o, [A]ll, [N]one, [r]ename: "
          ]
        }
      ],
      "source": [
        "!unzip dog_dataset/dogbreedidfromcomp.zip -d dog_dataset\n",
        "!rm dog_dataset/dogbreedidfromcomp.zip\n"
      ]
    },
    {
      "cell_type": "code",
      "execution_count": 61,
      "metadata": {
        "id": "D7cOt5DvN-oH"
      },
      "outputs": [],
      "source": [
        "#Import Libary imports\n",
        "import numpy as np\n",
        "import pandas as pd\n",
        "import matplotlib.pyplot as plt\n",
        "\n",
        "from tqdm import tqdm\n",
        "from keras.preprocessing import image\n",
        "from sklearn.preprocessing import label_binarize\n",
        "from sklearn.model_selection import train_test_split\n",
        "from keras.models import Sequential\n",
        "from keras.layers import Dense, Dropout, Flatten, Conv2D, MaxPool2D\n",
        "# from keras.optimizers import Adam does not work\n",
        "from tensorflow.keras.optimizers import Adam\n"
      ]
    },
    {
      "cell_type": "code",
      "execution_count": 62,
      "metadata": {
        "colab": {
          "base_uri": "https://localhost:8080/",
          "height": 380
        },
        "id": "tYDIpg_8Plnf",
        "outputId": "36a67438-44ee-4675-d077-8a5e2fa9c286"
      },
      "outputs": [
        {
          "output_type": "stream",
          "name": "stdout",
          "text": [
            "(10222, 2)\n"
          ]
        },
        {
          "output_type": "execute_result",
          "data": {
            "text/plain": [
              "                                 id               breed\n",
              "0  000bec180eb18c7604dcecc8fe0dba07         boston_bull\n",
              "1  001513dfcb2ffafc82cccf4d8bbaba97               dingo\n",
              "2  001cdf01b096e06d78e9e5112d419397            pekinese\n",
              "3  00214f311d5d2247d5dfe4fe24b2303d            bluetick\n",
              "4  0021f9ceb3235effd7fcde7f7538ed62    golden_retriever\n",
              "5  002211c81b498ef88e1b40b9abf84e1d  bedlington_terrier\n",
              "6  00290d3e1fdd27226ba27a8ce248ce85  bedlington_terrier\n",
              "7  002a283a315af96eaea0e28e7163b21b              borzoi\n",
              "8  003df8b8a8b05244b1d920bb6cf451f9             basenji\n",
              "9  0042188c895a2f14ef64a918ed9c7b64  scottish_deerhound"
            ],
            "text/html": [
              "\n",
              "  <div id=\"df-11efd976-dcd9-4263-9f6d-ae29a29f74ca\">\n",
              "    <div class=\"colab-df-container\">\n",
              "      <div>\n",
              "<style scoped>\n",
              "    .dataframe tbody tr th:only-of-type {\n",
              "        vertical-align: middle;\n",
              "    }\n",
              "\n",
              "    .dataframe tbody tr th {\n",
              "        vertical-align: top;\n",
              "    }\n",
              "\n",
              "    .dataframe thead th {\n",
              "        text-align: right;\n",
              "    }\n",
              "</style>\n",
              "<table border=\"1\" class=\"dataframe\">\n",
              "  <thead>\n",
              "    <tr style=\"text-align: right;\">\n",
              "      <th></th>\n",
              "      <th>id</th>\n",
              "      <th>breed</th>\n",
              "    </tr>\n",
              "  </thead>\n",
              "  <tbody>\n",
              "    <tr>\n",
              "      <th>0</th>\n",
              "      <td>000bec180eb18c7604dcecc8fe0dba07</td>\n",
              "      <td>boston_bull</td>\n",
              "    </tr>\n",
              "    <tr>\n",
              "      <th>1</th>\n",
              "      <td>001513dfcb2ffafc82cccf4d8bbaba97</td>\n",
              "      <td>dingo</td>\n",
              "    </tr>\n",
              "    <tr>\n",
              "      <th>2</th>\n",
              "      <td>001cdf01b096e06d78e9e5112d419397</td>\n",
              "      <td>pekinese</td>\n",
              "    </tr>\n",
              "    <tr>\n",
              "      <th>3</th>\n",
              "      <td>00214f311d5d2247d5dfe4fe24b2303d</td>\n",
              "      <td>bluetick</td>\n",
              "    </tr>\n",
              "    <tr>\n",
              "      <th>4</th>\n",
              "      <td>0021f9ceb3235effd7fcde7f7538ed62</td>\n",
              "      <td>golden_retriever</td>\n",
              "    </tr>\n",
              "    <tr>\n",
              "      <th>5</th>\n",
              "      <td>002211c81b498ef88e1b40b9abf84e1d</td>\n",
              "      <td>bedlington_terrier</td>\n",
              "    </tr>\n",
              "    <tr>\n",
              "      <th>6</th>\n",
              "      <td>00290d3e1fdd27226ba27a8ce248ce85</td>\n",
              "      <td>bedlington_terrier</td>\n",
              "    </tr>\n",
              "    <tr>\n",
              "      <th>7</th>\n",
              "      <td>002a283a315af96eaea0e28e7163b21b</td>\n",
              "      <td>borzoi</td>\n",
              "    </tr>\n",
              "    <tr>\n",
              "      <th>8</th>\n",
              "      <td>003df8b8a8b05244b1d920bb6cf451f9</td>\n",
              "      <td>basenji</td>\n",
              "    </tr>\n",
              "    <tr>\n",
              "      <th>9</th>\n",
              "      <td>0042188c895a2f14ef64a918ed9c7b64</td>\n",
              "      <td>scottish_deerhound</td>\n",
              "    </tr>\n",
              "  </tbody>\n",
              "</table>\n",
              "</div>\n",
              "      <button class=\"colab-df-convert\" onclick=\"convertToInteractive('df-11efd976-dcd9-4263-9f6d-ae29a29f74ca')\"\n",
              "              title=\"Convert this dataframe to an interactive table.\"\n",
              "              style=\"display:none;\">\n",
              "        \n",
              "  <svg xmlns=\"http://www.w3.org/2000/svg\" height=\"24px\"viewBox=\"0 0 24 24\"\n",
              "       width=\"24px\">\n",
              "    <path d=\"M0 0h24v24H0V0z\" fill=\"none\"/>\n",
              "    <path d=\"M18.56 5.44l.94 2.06.94-2.06 2.06-.94-2.06-.94-.94-2.06-.94 2.06-2.06.94zm-11 1L8.5 8.5l.94-2.06 2.06-.94-2.06-.94L8.5 2.5l-.94 2.06-2.06.94zm10 10l.94 2.06.94-2.06 2.06-.94-2.06-.94-.94-2.06-.94 2.06-2.06.94z\"/><path d=\"M17.41 7.96l-1.37-1.37c-.4-.4-.92-.59-1.43-.59-.52 0-1.04.2-1.43.59L10.3 9.45l-7.72 7.72c-.78.78-.78 2.05 0 2.83L4 21.41c.39.39.9.59 1.41.59.51 0 1.02-.2 1.41-.59l7.78-7.78 2.81-2.81c.8-.78.8-2.07 0-2.86zM5.41 20L4 18.59l7.72-7.72 1.47 1.35L5.41 20z\"/>\n",
              "  </svg>\n",
              "      </button>\n",
              "      \n",
              "  <style>\n",
              "    .colab-df-container {\n",
              "      display:flex;\n",
              "      flex-wrap:wrap;\n",
              "      gap: 12px;\n",
              "    }\n",
              "\n",
              "    .colab-df-convert {\n",
              "      background-color: #E8F0FE;\n",
              "      border: none;\n",
              "      border-radius: 50%;\n",
              "      cursor: pointer;\n",
              "      display: none;\n",
              "      fill: #1967D2;\n",
              "      height: 32px;\n",
              "      padding: 0 0 0 0;\n",
              "      width: 32px;\n",
              "    }\n",
              "\n",
              "    .colab-df-convert:hover {\n",
              "      background-color: #E2EBFA;\n",
              "      box-shadow: 0px 1px 2px rgba(60, 64, 67, 0.3), 0px 1px 3px 1px rgba(60, 64, 67, 0.15);\n",
              "      fill: #174EA6;\n",
              "    }\n",
              "\n",
              "    [theme=dark] .colab-df-convert {\n",
              "      background-color: #3B4455;\n",
              "      fill: #D2E3FC;\n",
              "    }\n",
              "\n",
              "    [theme=dark] .colab-df-convert:hover {\n",
              "      background-color: #434B5C;\n",
              "      box-shadow: 0px 1px 3px 1px rgba(0, 0, 0, 0.15);\n",
              "      filter: drop-shadow(0px 1px 2px rgba(0, 0, 0, 0.3));\n",
              "      fill: #FFFFFF;\n",
              "    }\n",
              "  </style>\n",
              "\n",
              "      <script>\n",
              "        const buttonEl =\n",
              "          document.querySelector('#df-11efd976-dcd9-4263-9f6d-ae29a29f74ca button.colab-df-convert');\n",
              "        buttonEl.style.display =\n",
              "          google.colab.kernel.accessAllowed ? 'block' : 'none';\n",
              "\n",
              "        async function convertToInteractive(key) {\n",
              "          const element = document.querySelector('#df-11efd976-dcd9-4263-9f6d-ae29a29f74ca');\n",
              "          const dataTable =\n",
              "            await google.colab.kernel.invokeFunction('convertToInteractive',\n",
              "                                                     [key], {});\n",
              "          if (!dataTable) return;\n",
              "\n",
              "          const docLinkHtml = 'Like what you see? Visit the ' +\n",
              "            '<a target=\"_blank\" href=https://colab.research.google.com/notebooks/data_table.ipynb>data table notebook</a>'\n",
              "            + ' to learn more about interactive tables.';\n",
              "          element.innerHTML = '';\n",
              "          dataTable['output_type'] = 'display_data';\n",
              "          await google.colab.output.renderOutput(dataTable, element);\n",
              "          const docLink = document.createElement('div');\n",
              "          docLink.innerHTML = docLinkHtml;\n",
              "          element.appendChild(docLink);\n",
              "        }\n",
              "      </script>\n",
              "    </div>\n",
              "  </div>\n",
              "  "
            ]
          },
          "metadata": {},
          "execution_count": 62
        }
      ],
      "source": [
        "labels_all = pd.read_csv(\"dog_dataset/labels.csv\")\n",
        "print(labels_all.shape)\n",
        "labels_all.head(10) #show first five rows"
      ]
    },
    {
      "cell_type": "markdown",
      "metadata": {
        "id": "TR9SvUdzP_0-"
      },
      "source": [
        "10222 rows and 2 colums (id, breed)"
      ]
    },
    {
      "cell_type": "code",
      "execution_count": 63,
      "metadata": {
        "colab": {
          "base_uri": "https://localhost:8080/"
        },
        "id": "eqgkQAt8QJWg",
        "outputId": "41efbb86-f2d2-4c0a-db9c-8b97f7f3e5c5"
      },
      "outputs": [
        {
          "output_type": "stream",
          "name": "stdout",
          "text": [
            "0                     boston_bull\n",
            "1                           dingo\n",
            "2                        pekinese\n",
            "3                        bluetick\n",
            "4                golden_retriever\n",
            "                   ...           \n",
            "10217                      borzoi\n",
            "10218              dandie_dinmont\n",
            "10219                    airedale\n",
            "10220          miniature_pinscher\n",
            "10221    chesapeake_bay_retriever\n",
            "Name: breed, Length: 10222, dtype: object\n"
          ]
        },
        {
          "output_type": "execute_result",
          "data": {
            "text/plain": [
              "scottish_deerhound      126\n",
              "maltese_dog             117\n",
              "afghan_hound            116\n",
              "entlebucher             115\n",
              "bernese_mountain_dog    114\n",
              "shih-tzu                112\n",
              "great_pyrenees          111\n",
              "pomeranian              111\n",
              "basenji                 110\n",
              "samoyed                 109\n",
              "Name: breed, dtype: int64"
            ]
          },
          "metadata": {},
          "execution_count": 63
        }
      ],
      "source": [
        "# Visualize the number of each breeds\n",
        "breeds_all = labels_all[\"breed\"]\n",
        "print(breeds_all)\n",
        "breed_counts = breeds_all.value_counts()\n",
        "breed_counts.head(10) "
      ]
    },
    {
      "cell_type": "markdown",
      "metadata": {
        "id": "s1l2wlwVQw7p"
      },
      "source": [
        "Here we are finding out the count per class i.e. total data in each class using value_counts() function."
      ]
    },
    {
      "cell_type": "code",
      "execution_count": 64,
      "metadata": {
        "colab": {
          "base_uri": "https://localhost:8080/",
          "height": 206
        },
        "id": "1Ae1Nka-QsxV",
        "outputId": "9e75e041-c5df-45d7-9cf4-c1be4d7d91e2"
      },
      "outputs": [
        {
          "output_type": "execute_result",
          "data": {
            "text/plain": [
              "   index                                id             breed\n",
              "0      0  000bec180eb18c7604dcecc8fe0dba07       boston_bull\n",
              "1      1  001513dfcb2ffafc82cccf4d8bbaba97             dingo\n",
              "2      2  001cdf01b096e06d78e9e5112d419397          pekinese\n",
              "3      3  00214f311d5d2247d5dfe4fe24b2303d          bluetick\n",
              "4      4  0021f9ceb3235effd7fcde7f7538ed62  golden_retriever"
            ],
            "text/html": [
              "\n",
              "  <div id=\"df-71489be0-3fb4-4b61-ae48-5f8b0233602e\">\n",
              "    <div class=\"colab-df-container\">\n",
              "      <div>\n",
              "<style scoped>\n",
              "    .dataframe tbody tr th:only-of-type {\n",
              "        vertical-align: middle;\n",
              "    }\n",
              "\n",
              "    .dataframe tbody tr th {\n",
              "        vertical-align: top;\n",
              "    }\n",
              "\n",
              "    .dataframe thead th {\n",
              "        text-align: right;\n",
              "    }\n",
              "</style>\n",
              "<table border=\"1\" class=\"dataframe\">\n",
              "  <thead>\n",
              "    <tr style=\"text-align: right;\">\n",
              "      <th></th>\n",
              "      <th>index</th>\n",
              "      <th>id</th>\n",
              "      <th>breed</th>\n",
              "    </tr>\n",
              "  </thead>\n",
              "  <tbody>\n",
              "    <tr>\n",
              "      <th>0</th>\n",
              "      <td>0</td>\n",
              "      <td>000bec180eb18c7604dcecc8fe0dba07</td>\n",
              "      <td>boston_bull</td>\n",
              "    </tr>\n",
              "    <tr>\n",
              "      <th>1</th>\n",
              "      <td>1</td>\n",
              "      <td>001513dfcb2ffafc82cccf4d8bbaba97</td>\n",
              "      <td>dingo</td>\n",
              "    </tr>\n",
              "    <tr>\n",
              "      <th>2</th>\n",
              "      <td>2</td>\n",
              "      <td>001cdf01b096e06d78e9e5112d419397</td>\n",
              "      <td>pekinese</td>\n",
              "    </tr>\n",
              "    <tr>\n",
              "      <th>3</th>\n",
              "      <td>3</td>\n",
              "      <td>00214f311d5d2247d5dfe4fe24b2303d</td>\n",
              "      <td>bluetick</td>\n",
              "    </tr>\n",
              "    <tr>\n",
              "      <th>4</th>\n",
              "      <td>4</td>\n",
              "      <td>0021f9ceb3235effd7fcde7f7538ed62</td>\n",
              "      <td>golden_retriever</td>\n",
              "    </tr>\n",
              "  </tbody>\n",
              "</table>\n",
              "</div>\n",
              "      <button class=\"colab-df-convert\" onclick=\"convertToInteractive('df-71489be0-3fb4-4b61-ae48-5f8b0233602e')\"\n",
              "              title=\"Convert this dataframe to an interactive table.\"\n",
              "              style=\"display:none;\">\n",
              "        \n",
              "  <svg xmlns=\"http://www.w3.org/2000/svg\" height=\"24px\"viewBox=\"0 0 24 24\"\n",
              "       width=\"24px\">\n",
              "    <path d=\"M0 0h24v24H0V0z\" fill=\"none\"/>\n",
              "    <path d=\"M18.56 5.44l.94 2.06.94-2.06 2.06-.94-2.06-.94-.94-2.06-.94 2.06-2.06.94zm-11 1L8.5 8.5l.94-2.06 2.06-.94-2.06-.94L8.5 2.5l-.94 2.06-2.06.94zm10 10l.94 2.06.94-2.06 2.06-.94-2.06-.94-.94-2.06-.94 2.06-2.06.94z\"/><path d=\"M17.41 7.96l-1.37-1.37c-.4-.4-.92-.59-1.43-.59-.52 0-1.04.2-1.43.59L10.3 9.45l-7.72 7.72c-.78.78-.78 2.05 0 2.83L4 21.41c.39.39.9.59 1.41.59.51 0 1.02-.2 1.41-.59l7.78-7.78 2.81-2.81c.8-.78.8-2.07 0-2.86zM5.41 20L4 18.59l7.72-7.72 1.47 1.35L5.41 20z\"/>\n",
              "  </svg>\n",
              "      </button>\n",
              "      \n",
              "  <style>\n",
              "    .colab-df-container {\n",
              "      display:flex;\n",
              "      flex-wrap:wrap;\n",
              "      gap: 12px;\n",
              "    }\n",
              "\n",
              "    .colab-df-convert {\n",
              "      background-color: #E8F0FE;\n",
              "      border: none;\n",
              "      border-radius: 50%;\n",
              "      cursor: pointer;\n",
              "      display: none;\n",
              "      fill: #1967D2;\n",
              "      height: 32px;\n",
              "      padding: 0 0 0 0;\n",
              "      width: 32px;\n",
              "    }\n",
              "\n",
              "    .colab-df-convert:hover {\n",
              "      background-color: #E2EBFA;\n",
              "      box-shadow: 0px 1px 2px rgba(60, 64, 67, 0.3), 0px 1px 3px 1px rgba(60, 64, 67, 0.15);\n",
              "      fill: #174EA6;\n",
              "    }\n",
              "\n",
              "    [theme=dark] .colab-df-convert {\n",
              "      background-color: #3B4455;\n",
              "      fill: #D2E3FC;\n",
              "    }\n",
              "\n",
              "    [theme=dark] .colab-df-convert:hover {\n",
              "      background-color: #434B5C;\n",
              "      box-shadow: 0px 1px 3px 1px rgba(0, 0, 0, 0.15);\n",
              "      filter: drop-shadow(0px 1px 2px rgba(0, 0, 0, 0.3));\n",
              "      fill: #FFFFFF;\n",
              "    }\n",
              "  </style>\n",
              "\n",
              "      <script>\n",
              "        const buttonEl =\n",
              "          document.querySelector('#df-71489be0-3fb4-4b61-ae48-5f8b0233602e button.colab-df-convert');\n",
              "        buttonEl.style.display =\n",
              "          google.colab.kernel.accessAllowed ? 'block' : 'none';\n",
              "\n",
              "        async function convertToInteractive(key) {\n",
              "          const element = document.querySelector('#df-71489be0-3fb4-4b61-ae48-5f8b0233602e');\n",
              "          const dataTable =\n",
              "            await google.colab.kernel.invokeFunction('convertToInteractive',\n",
              "                                                     [key], {});\n",
              "          if (!dataTable) return;\n",
              "\n",
              "          const docLinkHtml = 'Like what you see? Visit the ' +\n",
              "            '<a target=\"_blank\" href=https://colab.research.google.com/notebooks/data_table.ipynb>data table notebook</a>'\n",
              "            + ' to learn more about interactive tables.';\n",
              "          element.innerHTML = '';\n",
              "          dataTable['output_type'] = 'display_data';\n",
              "          await google.colab.output.renderOutput(dataTable, element);\n",
              "          const docLink = document.createElement('div');\n",
              "          docLink.innerHTML = docLinkHtml;\n",
              "          element.appendChild(docLink);\n",
              "        }\n",
              "      </script>\n",
              "    </div>\n",
              "  </div>\n",
              "  "
            ]
          },
          "metadata": {},
          "execution_count": 64
        }
      ],
      "source": [
        "# Selecting first 5 breeds (Limitation due to computation power)\n",
        "CLASS_NAMES = list(breeds_all[0:5])\n",
        "labels = labels_all[(labels_all['breed'].isin(CLASS_NAMES))]\n",
        "labels = labels.reset_index()\n",
        "labels.head()"
      ]
    },
    {
      "cell_type": "code",
      "execution_count": 65,
      "metadata": {
        "colab": {
          "base_uri": "https://localhost:8080/"
        },
        "id": "9pZXPu_ETCVZ",
        "outputId": "119d9cac-7d87-441c-aa10-07c2117abadd"
      },
      "outputs": [
        {
          "output_type": "stream",
          "name": "stderr",
          "text": [
            "100%|██████████| 394/394 [00:01<00:00, 218.64it/s]"
          ]
        },
        {
          "output_type": "stream",
          "name": "stdout",
          "text": [
            "\n",
            "Train Images shape:  (394, 224, 224, 3) size:59,308,032\n",
            "One-hot encoded output shape:  (394, 5) size:1,970\n"
          ]
        },
        {
          "output_type": "stream",
          "name": "stderr",
          "text": [
            "\n"
          ]
        }
      ],
      "source": [
        "# Creating numpy matrix with zeros\n",
        "X_data = np.zeros((len(labels), 224, 224, 3), dtype='float32') # np.zeros (圖片個數, size(x), size(y), rgb3colors)\n",
        "# One hot coding\n",
        "Y_data = label_binarize(labels['breed'], classes = CLASS_NAMES) # (圖片個數, 5個class)\n",
        "\n",
        "# Reading and converting image to numpy array and normalizing dataset\n",
        "for i in tqdm(range(len(labels))):\n",
        "  img = image.load_img('dog_dataset/train/%s.jpg' %labels['id'][i], target_size=(224,224))\n",
        "  img = image.img_to_array(img)\n",
        "  x = np.expand_dims(img.copy(), axis=0)\n",
        "  X_data[i] = x/255.0\n",
        "\n",
        "# Printing train image and one hot encode shape & size\n",
        "print('\\nTrain Images shape: ' ,X_data.shape, 'size:{:,}'.format(X_data.size))\n",
        "print('One-hot encoded output shape: ',Y_data.shape, 'size:{:,}'.format(Y_data.size)) "
      ]
    },
    {
      "cell_type": "markdown",
      "metadata": {
        "id": "y8UVsaROU7EC"
      },
      "source": [
        "One-Hot coding <br>\n",
        "很多機器學習任務中, 特徵並不總是連續值, 有可能是分類值\n",
        "如果特徵用數字表示, 效率會高很多, 但是轉化為數字後, 上述的數據就不能直接用在分類器中。因為分類器往往默認數據是連續並且有排序,但特徵用數字表示後是隨機分配的。<br><br>\n",
        "解决上述问题的一种方法是采用One-Hot Encoding。\n",
        "\n",
        "独热编码，又称一位有效编码，其方法是使用N位状态寄存器来对N个状态进行编码，每个状态都有它独立的寄存器位，并且在任意时候，其中只有一位有效。\n",
        "可以这样理解，对于每一个特征，如果它有m个可能值，那么经过独热编码后，就变成了m个二元特征。并且，这些特征互斥，每次只有一个激活。因此，数据会变成稀疏的。\n",
        "\n",
        "这样做的好处主要有：\n",
        "\n",
        "1.解决了分类器不好处理属性数据的问题\n",
        "\n",
        "2.在一定程度上也起到了扩充特征的作用\n",
        "\n"
      ]
    },
    {
      "cell_type": "code",
      "execution_count": 72,
      "metadata": {
        "colab": {
          "base_uri": "https://localhost:8080/"
        },
        "id": "eMiVhVPIaP2y",
        "outputId": "d60311af-971c-450d-f016-9fa381d7fc7a"
      },
      "outputs": [
        {
          "output_type": "stream",
          "name": "stdout",
          "text": [
            "Model: \"sequential_7\"\n",
            "_________________________________________________________________\n",
            " Layer (type)                Output Shape              Param #   \n",
            "=================================================================\n",
            " conv2d_32 (Conv2D)          (None, 220, 220, 64)      4864      \n",
            "                                                                 \n",
            " max_pooling2d_32 (MaxPoolin  (None, 110, 110, 64)     0         \n",
            " g2D)                                                            \n",
            "                                                                 \n",
            " conv2d_33 (Conv2D)          (None, 108, 108, 48)      27696     \n",
            "                                                                 \n",
            " max_pooling2d_33 (MaxPoolin  (None, 54, 54, 48)       0         \n",
            " g2D)                                                            \n",
            "                                                                 \n",
            " conv2d_34 (Conv2D)          (None, 50, 50, 32)        38432     \n",
            "                                                                 \n",
            " max_pooling2d_34 (MaxPoolin  (None, 25, 25, 32)       0         \n",
            " g2D)                                                            \n",
            "                                                                 \n",
            " conv2d_35 (Conv2D)          (None, 19, 19, 16)        25104     \n",
            "                                                                 \n",
            " max_pooling2d_35 (MaxPoolin  (None, 9, 9, 16)         0         \n",
            " g2D)                                                            \n",
            "                                                                 \n",
            " conv2d_36 (Conv2D)          (None, 5, 5, 8)           3208      \n",
            "                                                                 \n",
            " max_pooling2d_36 (MaxPoolin  (None, 2, 2, 8)          0         \n",
            " g2D)                                                            \n",
            "                                                                 \n",
            " flatten_7 (Flatten)         (None, 32)                0         \n",
            "                                                                 \n",
            " dense_24 (Dense)            (None, 128)               4224      \n",
            "                                                                 \n",
            " dense_25 (Dense)            (None, 64)                8256      \n",
            "                                                                 \n",
            " dense_26 (Dense)            (None, 32)                2080      \n",
            "                                                                 \n",
            " dense_27 (Dense)            (None, 5)                 165       \n",
            "                                                                 \n",
            "=================================================================\n",
            "Total params: 114,029\n",
            "Trainable params: 114,029\n",
            "Non-trainable params: 0\n",
            "_________________________________________________________________\n"
          ]
        }
      ],
      "source": [
        "# Using CNN to build Model\n",
        "model = Sequential()\n",
        "\n",
        "\n",
        "model.add(Conv2D(filters = 64, kernel_size = (5,5), activation='relu', input_shape = (224,224,3)))\n",
        "model.add(MaxPool2D(pool_size=(2,2)))\n",
        "\n",
        "\n",
        "model.add(Conv2D(filters = 48, kernel_size = (3,3), activation='relu', kernel_regularizer= 'l2'))\n",
        "model.add(MaxPool2D(pool_size=(2,2)))\n",
        "\n",
        "model.add(Conv2D(filters = 32, kernel_size = (5,5), activation='relu', kernel_regularizer= 'l2'))\n",
        "model.add(MaxPool2D(pool_size=(2,2)))\n",
        "\n",
        "model.add(Conv2D(filters = 16, kernel_size = (7,7), activation='relu', kernel_regularizer= 'l2'))\n",
        "model.add(MaxPool2D(pool_size=(2,2)))\n",
        "\n",
        "model.add(Conv2D(filters = 8, kernel_size = (5,5), activation='relu', kernel_regularizer= 'l2'))\n",
        "model.add(MaxPool2D(pool_size=(2,2)))\n",
        "\n",
        "model.add(Flatten())\n",
        "model.add(Dense(128, activation = 'relu', kernel_regularizer = 'l2'))\n",
        "model.add(Dense(64, activation = 'relu', kernel_regularizer = 'l2'))\n",
        "model.add(Dense(32, activation = 'relu', kernel_regularizer = 'l2'))\n",
        "model.add(Dense(len(CLASS_NAMES), activation = \"softmax\"))\n",
        "\n",
        "model.compile(loss = 'categorical_crossentropy', optimizer = Adam(0.0001), metrics=['accuracy'])\n",
        "\n",
        "model.summary()"
      ]
    },
    {
      "cell_type": "markdown",
      "metadata": {
        "id": "A2IME90HeHg0"
      },
      "source": [
        "Nest we will create a network architecture for the model. We have used different types of layers according to their features namely Conv_2d(It is used to create a convolutional kernel that is convolved with the input layer to produce the output tensor),max_pooling2d(It is a downsampling technique which takes out the maximun value over the window defined by poolsize), flatten(It flattens the input and creates a 1D output),Dense(Dense layer produce the output as the output as the dot product of input and kernel)."
      ]
    },
    {
      "cell_type": "code",
      "execution_count": 73,
      "metadata": {
        "id": "WymyIvakdTWU"
      },
      "outputs": [],
      "source": [
        "# Splitting the data set into training and testing data sets\n",
        "X_train_and_val, X_test, Y_train_and_val, Y_test = train_test_split(X_data,Y_data, test_size = 0.1)\n",
        "# Splitting the training data set into training and validation data sets\n",
        "X_train, X_val, Y_train, Y_val = train_test_split(X_train_and_val, Y_train_and_val, test_size = 0.2)"
      ]
    },
    {
      "cell_type": "markdown",
      "metadata": {
        "id": "MsOPCfnVfz3Q"
      },
      "source": [
        "Now we train our model on 100 epochs and a batch size of 128. You can try using more number of epochs to increase accuracy. During each epochs we can see how the model is performing by viewing the training and validation accuracy."
      ]
    },
    {
      "cell_type": "code",
      "execution_count": 74,
      "metadata": {
        "colab": {
          "base_uri": "https://localhost:8080/"
        },
        "id": "i_DkvIRxfGke",
        "outputId": "bb15fbc5-6919-468f-ee9f-dca84b4f201c"
      },
      "outputs": [
        {
          "output_type": "stream",
          "name": "stdout",
          "text": [
            "Epoch 1/300\n",
            "3/3 [==============================] - 2s 387ms/step - loss: 4.6352 - accuracy: 0.1979 - val_loss: 4.6193 - val_accuracy: 0.1268\n",
            "Epoch 2/300\n",
            "3/3 [==============================] - 1s 254ms/step - loss: 4.6106 - accuracy: 0.2226 - val_loss: 4.5958 - val_accuracy: 0.1549\n",
            "Epoch 3/300\n",
            "3/3 [==============================] - 1s 251ms/step - loss: 4.5868 - accuracy: 0.2403 - val_loss: 4.5722 - val_accuracy: 0.1268\n",
            "Epoch 4/300\n",
            "3/3 [==============================] - 1s 252ms/step - loss: 4.5633 - accuracy: 0.2650 - val_loss: 4.5489 - val_accuracy: 0.1549\n",
            "Epoch 5/300\n",
            "3/3 [==============================] - 1s 246ms/step - loss: 4.5401 - accuracy: 0.2438 - val_loss: 4.5273 - val_accuracy: 0.1549\n",
            "Epoch 6/300\n",
            "3/3 [==============================] - 1s 252ms/step - loss: 4.5175 - accuracy: 0.2403 - val_loss: 4.5052 - val_accuracy: 0.1549\n",
            "Epoch 7/300\n",
            "3/3 [==============================] - 1s 251ms/step - loss: 4.4944 - accuracy: 0.2367 - val_loss: 4.4817 - val_accuracy: 0.1549\n",
            "Epoch 8/300\n",
            "3/3 [==============================] - 1s 248ms/step - loss: 4.4722 - accuracy: 0.2438 - val_loss: 4.4597 - val_accuracy: 0.1690\n",
            "Epoch 9/300\n",
            "3/3 [==============================] - 1s 246ms/step - loss: 4.4502 - accuracy: 0.2509 - val_loss: 4.4379 - val_accuracy: 0.1690\n",
            "Epoch 10/300\n",
            "3/3 [==============================] - 1s 269ms/step - loss: 4.4275 - accuracy: 0.2367 - val_loss: 4.4171 - val_accuracy: 0.1831\n",
            "Epoch 11/300\n",
            "3/3 [==============================] - 1s 251ms/step - loss: 4.4059 - accuracy: 0.2403 - val_loss: 4.3954 - val_accuracy: 0.1831\n",
            "Epoch 12/300\n",
            "3/3 [==============================] - 1s 278ms/step - loss: 4.3841 - accuracy: 0.2473 - val_loss: 4.3736 - val_accuracy: 0.1831\n",
            "Epoch 13/300\n",
            "3/3 [==============================] - 1s 250ms/step - loss: 4.3620 - accuracy: 0.2473 - val_loss: 4.3530 - val_accuracy: 0.1690\n",
            "Epoch 14/300\n",
            "3/3 [==============================] - 1s 277ms/step - loss: 4.3410 - accuracy: 0.2332 - val_loss: 4.3319 - val_accuracy: 0.1831\n",
            "Epoch 15/300\n",
            "3/3 [==============================] - 1s 250ms/step - loss: 4.3196 - accuracy: 0.2438 - val_loss: 4.3108 - val_accuracy: 0.1831\n",
            "Epoch 16/300\n",
            "3/3 [==============================] - 1s 253ms/step - loss: 4.2984 - accuracy: 0.2473 - val_loss: 4.2911 - val_accuracy: 0.1831\n",
            "Epoch 17/300\n",
            "3/3 [==============================] - 1s 253ms/step - loss: 4.2773 - accuracy: 0.2403 - val_loss: 4.2726 - val_accuracy: 0.1690\n",
            "Epoch 18/300\n",
            "3/3 [==============================] - 1s 253ms/step - loss: 4.2583 - accuracy: 0.2297 - val_loss: 4.2525 - val_accuracy: 0.1690\n",
            "Epoch 19/300\n",
            "3/3 [==============================] - 1s 254ms/step - loss: 4.2358 - accuracy: 0.2403 - val_loss: 4.2319 - val_accuracy: 0.1831\n",
            "Epoch 20/300\n",
            "3/3 [==============================] - 1s 251ms/step - loss: 4.2181 - accuracy: 0.2756 - val_loss: 4.2116 - val_accuracy: 0.1972\n",
            "Epoch 21/300\n",
            "3/3 [==============================] - 1s 251ms/step - loss: 4.1971 - accuracy: 0.2686 - val_loss: 4.1923 - val_accuracy: 0.1831\n",
            "Epoch 22/300\n",
            "3/3 [==============================] - 1s 255ms/step - loss: 4.1774 - accuracy: 0.2792 - val_loss: 4.1722 - val_accuracy: 0.2113\n",
            "Epoch 23/300\n",
            "3/3 [==============================] - 1s 248ms/step - loss: 4.1574 - accuracy: 0.2898 - val_loss: 4.1531 - val_accuracy: 0.2113\n",
            "Epoch 24/300\n",
            "3/3 [==============================] - 1s 256ms/step - loss: 4.1374 - accuracy: 0.3110 - val_loss: 4.1350 - val_accuracy: 0.2113\n",
            "Epoch 25/300\n",
            "3/3 [==============================] - 1s 255ms/step - loss: 4.1172 - accuracy: 0.2792 - val_loss: 4.1185 - val_accuracy: 0.1831\n",
            "Epoch 26/300\n",
            "3/3 [==============================] - 1s 257ms/step - loss: 4.0986 - accuracy: 0.2686 - val_loss: 4.0977 - val_accuracy: 0.2113\n",
            "Epoch 27/300\n",
            "3/3 [==============================] - 1s 257ms/step - loss: 4.0784 - accuracy: 0.2721 - val_loss: 4.0805 - val_accuracy: 0.1972\n",
            "Epoch 28/300\n",
            "3/3 [==============================] - 1s 252ms/step - loss: 4.0569 - accuracy: 0.2721 - val_loss: 4.0588 - val_accuracy: 0.2254\n",
            "Epoch 29/300\n",
            "3/3 [==============================] - 1s 250ms/step - loss: 4.0368 - accuracy: 0.3357 - val_loss: 4.0415 - val_accuracy: 0.2113\n",
            "Epoch 30/300\n",
            "3/3 [==============================] - 1s 251ms/step - loss: 4.0156 - accuracy: 0.3145 - val_loss: 4.0183 - val_accuracy: 0.2113\n",
            "Epoch 31/300\n",
            "3/3 [==============================] - 1s 255ms/step - loss: 3.9936 - accuracy: 0.3428 - val_loss: 4.0035 - val_accuracy: 0.2254\n",
            "Epoch 32/300\n",
            "3/3 [==============================] - 1s 256ms/step - loss: 3.9727 - accuracy: 0.3251 - val_loss: 3.9779 - val_accuracy: 0.3099\n",
            "Epoch 33/300\n",
            "3/3 [==============================] - 1s 253ms/step - loss: 3.9584 - accuracy: 0.3392 - val_loss: 3.9633 - val_accuracy: 0.2394\n",
            "Epoch 34/300\n",
            "3/3 [==============================] - 1s 249ms/step - loss: 3.9266 - accuracy: 0.3180 - val_loss: 3.9425 - val_accuracy: 0.2254\n",
            "Epoch 35/300\n",
            "3/3 [==============================] - 1s 254ms/step - loss: 3.9012 - accuracy: 0.3534 - val_loss: 3.9152 - val_accuracy: 0.2958\n",
            "Epoch 36/300\n",
            "3/3 [==============================] - 1s 250ms/step - loss: 3.8827 - accuracy: 0.3428 - val_loss: 3.9452 - val_accuracy: 0.1831\n",
            "Epoch 37/300\n",
            "3/3 [==============================] - 1s 249ms/step - loss: 3.8959 - accuracy: 0.2792 - val_loss: 3.8711 - val_accuracy: 0.3099\n",
            "Epoch 38/300\n",
            "3/3 [==============================] - 1s 250ms/step - loss: 3.8417 - accuracy: 0.3392 - val_loss: 3.8534 - val_accuracy: 0.3099\n",
            "Epoch 39/300\n",
            "3/3 [==============================] - 1s 254ms/step - loss: 3.8128 - accuracy: 0.3392 - val_loss: 3.8652 - val_accuracy: 0.2394\n",
            "Epoch 40/300\n",
            "3/3 [==============================] - 1s 253ms/step - loss: 3.7983 - accuracy: 0.3322 - val_loss: 3.8169 - val_accuracy: 0.2958\n",
            "Epoch 41/300\n",
            "3/3 [==============================] - 1s 255ms/step - loss: 3.7782 - accuracy: 0.3322 - val_loss: 3.7963 - val_accuracy: 0.3099\n",
            "Epoch 42/300\n",
            "3/3 [==============================] - 1s 255ms/step - loss: 3.7399 - accuracy: 0.3498 - val_loss: 3.7724 - val_accuracy: 0.2958\n",
            "Epoch 43/300\n",
            "3/3 [==============================] - 1s 258ms/step - loss: 3.7149 - accuracy: 0.3640 - val_loss: 3.7554 - val_accuracy: 0.2817\n",
            "Epoch 44/300\n",
            "3/3 [==============================] - 1s 246ms/step - loss: 3.6930 - accuracy: 0.3534 - val_loss: 3.7694 - val_accuracy: 0.2958\n",
            "Epoch 45/300\n",
            "3/3 [==============================] - 1s 255ms/step - loss: 3.6829 - accuracy: 0.3640 - val_loss: 3.7163 - val_accuracy: 0.3521\n",
            "Epoch 46/300\n",
            "3/3 [==============================] - 1s 252ms/step - loss: 3.6485 - accuracy: 0.3781 - val_loss: 3.7556 - val_accuracy: 0.2394\n",
            "Epoch 47/300\n",
            "3/3 [==============================] - 1s 256ms/step - loss: 3.6642 - accuracy: 0.3286 - val_loss: 3.6824 - val_accuracy: 0.3099\n",
            "Epoch 48/300\n",
            "3/3 [==============================] - 1s 250ms/step - loss: 3.6240 - accuracy: 0.3675 - val_loss: 3.6632 - val_accuracy: 0.3239\n",
            "Epoch 49/300\n",
            "3/3 [==============================] - 1s 255ms/step - loss: 3.5879 - accuracy: 0.3710 - val_loss: 3.6511 - val_accuracy: 0.2958\n",
            "Epoch 50/300\n",
            "3/3 [==============================] - 1s 250ms/step - loss: 3.5833 - accuracy: 0.3640 - val_loss: 3.6323 - val_accuracy: 0.3380\n",
            "Epoch 51/300\n",
            "3/3 [==============================] - 1s 252ms/step - loss: 3.5464 - accuracy: 0.3816 - val_loss: 3.6831 - val_accuracy: 0.3239\n",
            "Epoch 52/300\n",
            "3/3 [==============================] - 1s 252ms/step - loss: 3.5477 - accuracy: 0.3781 - val_loss: 3.6138 - val_accuracy: 0.3099\n",
            "Epoch 53/300\n",
            "3/3 [==============================] - 1s 256ms/step - loss: 3.5416 - accuracy: 0.3604 - val_loss: 3.5990 - val_accuracy: 0.2676\n",
            "Epoch 54/300\n",
            "3/3 [==============================] - 1s 252ms/step - loss: 3.4864 - accuracy: 0.4028 - val_loss: 3.6042 - val_accuracy: 0.3239\n",
            "Epoch 55/300\n",
            "3/3 [==============================] - 1s 254ms/step - loss: 3.4784 - accuracy: 0.4170 - val_loss: 3.5753 - val_accuracy: 0.2817\n",
            "Epoch 56/300\n",
            "3/3 [==============================] - 1s 250ms/step - loss: 3.4610 - accuracy: 0.3887 - val_loss: 3.5619 - val_accuracy: 0.2817\n",
            "Epoch 57/300\n",
            "3/3 [==============================] - 1s 254ms/step - loss: 3.4384 - accuracy: 0.4064 - val_loss: 3.5575 - val_accuracy: 0.2958\n",
            "Epoch 58/300\n",
            "3/3 [==============================] - 1s 256ms/step - loss: 3.4261 - accuracy: 0.4205 - val_loss: 3.5436 - val_accuracy: 0.3380\n",
            "Epoch 59/300\n",
            "3/3 [==============================] - 1s 249ms/step - loss: 3.4146 - accuracy: 0.4452 - val_loss: 3.5431 - val_accuracy: 0.3380\n",
            "Epoch 60/300\n",
            "3/3 [==============================] - 1s 251ms/step - loss: 3.3999 - accuracy: 0.4417 - val_loss: 3.5268 - val_accuracy: 0.3380\n",
            "Epoch 61/300\n",
            "3/3 [==============================] - 1s 283ms/step - loss: 3.3887 - accuracy: 0.4417 - val_loss: 3.5159 - val_accuracy: 0.3521\n",
            "Epoch 62/300\n",
            "3/3 [==============================] - 1s 250ms/step - loss: 3.3682 - accuracy: 0.4417 - val_loss: 3.4984 - val_accuracy: 0.3239\n",
            "Epoch 63/300\n",
            "3/3 [==============================] - 1s 253ms/step - loss: 3.3564 - accuracy: 0.4346 - val_loss: 3.4804 - val_accuracy: 0.3239\n",
            "Epoch 64/300\n",
            "3/3 [==============================] - 1s 255ms/step - loss: 3.3515 - accuracy: 0.4099 - val_loss: 3.4674 - val_accuracy: 0.3380\n",
            "Epoch 65/300\n",
            "3/3 [==============================] - 1s 250ms/step - loss: 3.3740 - accuracy: 0.4099 - val_loss: 3.4518 - val_accuracy: 0.3239\n",
            "Epoch 66/300\n",
            "3/3 [==============================] - 1s 252ms/step - loss: 3.3346 - accuracy: 0.4311 - val_loss: 3.5033 - val_accuracy: 0.3662\n",
            "Epoch 67/300\n",
            "3/3 [==============================] - 1s 255ms/step - loss: 3.3341 - accuracy: 0.4382 - val_loss: 3.4322 - val_accuracy: 0.3521\n",
            "Epoch 68/300\n",
            "3/3 [==============================] - 1s 253ms/step - loss: 3.2935 - accuracy: 0.4735 - val_loss: 3.4313 - val_accuracy: 0.3521\n",
            "Epoch 69/300\n",
            "3/3 [==============================] - 1s 251ms/step - loss: 3.2914 - accuracy: 0.4700 - val_loss: 3.4161 - val_accuracy: 0.3662\n",
            "Epoch 70/300\n",
            "3/3 [==============================] - 1s 253ms/step - loss: 3.2759 - accuracy: 0.4912 - val_loss: 3.4085 - val_accuracy: 0.3521\n",
            "Epoch 71/300\n",
            "3/3 [==============================] - 1s 247ms/step - loss: 3.2556 - accuracy: 0.4876 - val_loss: 3.3973 - val_accuracy: 0.3521\n",
            "Epoch 72/300\n",
            "3/3 [==============================] - 1s 255ms/step - loss: 3.2437 - accuracy: 0.4664 - val_loss: 3.4244 - val_accuracy: 0.3662\n",
            "Epoch 73/300\n",
            "3/3 [==============================] - 1s 253ms/step - loss: 3.2403 - accuracy: 0.4700 - val_loss: 3.3876 - val_accuracy: 0.3380\n",
            "Epoch 74/300\n",
            "3/3 [==============================] - 1s 258ms/step - loss: 3.2482 - accuracy: 0.4452 - val_loss: 3.3883 - val_accuracy: 0.3944\n",
            "Epoch 75/300\n",
            "3/3 [==============================] - 1s 254ms/step - loss: 3.2102 - accuracy: 0.4912 - val_loss: 3.3983 - val_accuracy: 0.3662\n",
            "Epoch 76/300\n",
            "3/3 [==============================] - 1s 252ms/step - loss: 3.1998 - accuracy: 0.4770 - val_loss: 3.3665 - val_accuracy: 0.3662\n",
            "Epoch 77/300\n",
            "3/3 [==============================] - 1s 251ms/step - loss: 3.1872 - accuracy: 0.4876 - val_loss: 3.3859 - val_accuracy: 0.4085\n",
            "Epoch 78/300\n",
            "3/3 [==============================] - 1s 250ms/step - loss: 3.1784 - accuracy: 0.5230 - val_loss: 3.3594 - val_accuracy: 0.3944\n",
            "Epoch 79/300\n",
            "3/3 [==============================] - 1s 252ms/step - loss: 3.1722 - accuracy: 0.5265 - val_loss: 3.3639 - val_accuracy: 0.3944\n",
            "Epoch 80/300\n",
            "3/3 [==============================] - 1s 254ms/step - loss: 3.1584 - accuracy: 0.5159 - val_loss: 3.3326 - val_accuracy: 0.3944\n",
            "Epoch 81/300\n",
            "3/3 [==============================] - 1s 252ms/step - loss: 3.1597 - accuracy: 0.4876 - val_loss: 3.3252 - val_accuracy: 0.3944\n",
            "Epoch 82/300\n",
            "3/3 [==============================] - 1s 256ms/step - loss: 3.1372 - accuracy: 0.4982 - val_loss: 3.3643 - val_accuracy: 0.3521\n",
            "Epoch 83/300\n",
            "3/3 [==============================] - 1s 256ms/step - loss: 3.1292 - accuracy: 0.5088 - val_loss: 3.3274 - val_accuracy: 0.3803\n",
            "Epoch 84/300\n",
            "3/3 [==============================] - 1s 250ms/step - loss: 3.1476 - accuracy: 0.4664 - val_loss: 3.3533 - val_accuracy: 0.3380\n",
            "Epoch 85/300\n",
            "3/3 [==============================] - 1s 247ms/step - loss: 3.1235 - accuracy: 0.5053 - val_loss: 3.3269 - val_accuracy: 0.3944\n",
            "Epoch 86/300\n",
            "3/3 [==============================] - 1s 251ms/step - loss: 3.0976 - accuracy: 0.5406 - val_loss: 3.2961 - val_accuracy: 0.3239\n",
            "Epoch 87/300\n",
            "3/3 [==============================] - 1s 251ms/step - loss: 3.1444 - accuracy: 0.4558 - val_loss: 3.3150 - val_accuracy: 0.3521\n",
            "Epoch 88/300\n",
            "3/3 [==============================] - 1s 257ms/step - loss: 3.1456 - accuracy: 0.4912 - val_loss: 3.2650 - val_accuracy: 0.4085\n",
            "Epoch 89/300\n",
            "3/3 [==============================] - 1s 250ms/step - loss: 3.1080 - accuracy: 0.5159 - val_loss: 3.2754 - val_accuracy: 0.3944\n",
            "Epoch 90/300\n",
            "3/3 [==============================] - 1s 251ms/step - loss: 3.0827 - accuracy: 0.4841 - val_loss: 3.3387 - val_accuracy: 0.3803\n",
            "Epoch 91/300\n",
            "3/3 [==============================] - 1s 280ms/step - loss: 3.0779 - accuracy: 0.5018 - val_loss: 3.2502 - val_accuracy: 0.3662\n",
            "Epoch 92/300\n",
            "3/3 [==============================] - 1s 252ms/step - loss: 3.0654 - accuracy: 0.5088 - val_loss: 3.2410 - val_accuracy: 0.3662\n",
            "Epoch 93/300\n",
            "3/3 [==============================] - 1s 254ms/step - loss: 3.0304 - accuracy: 0.5194 - val_loss: 3.2827 - val_accuracy: 0.3662\n",
            "Epoch 94/300\n",
            "3/3 [==============================] - 1s 255ms/step - loss: 3.0338 - accuracy: 0.5159 - val_loss: 3.2146 - val_accuracy: 0.3803\n",
            "Epoch 95/300\n",
            "3/3 [==============================] - 1s 250ms/step - loss: 3.0297 - accuracy: 0.5300 - val_loss: 3.2173 - val_accuracy: 0.3803\n",
            "Epoch 96/300\n",
            "3/3 [==============================] - 1s 253ms/step - loss: 3.0080 - accuracy: 0.5406 - val_loss: 3.2370 - val_accuracy: 0.3803\n",
            "Epoch 97/300\n",
            "3/3 [==============================] - 1s 249ms/step - loss: 3.0003 - accuracy: 0.5442 - val_loss: 3.1999 - val_accuracy: 0.3239\n",
            "Epoch 98/300\n",
            "3/3 [==============================] - 1s 250ms/step - loss: 2.9839 - accuracy: 0.5406 - val_loss: 3.2620 - val_accuracy: 0.4225\n",
            "Epoch 99/300\n",
            "3/3 [==============================] - 1s 252ms/step - loss: 3.0046 - accuracy: 0.5336 - val_loss: 3.2004 - val_accuracy: 0.3380\n",
            "Epoch 100/300\n",
            "3/3 [==============================] - 1s 251ms/step - loss: 2.9912 - accuracy: 0.5124 - val_loss: 3.1921 - val_accuracy: 0.3521\n",
            "Epoch 101/300\n",
            "3/3 [==============================] - 1s 253ms/step - loss: 2.9573 - accuracy: 0.5371 - val_loss: 3.2626 - val_accuracy: 0.3803\n",
            "Epoch 102/300\n",
            "3/3 [==============================] - 1s 254ms/step - loss: 2.9719 - accuracy: 0.5159 - val_loss: 3.1740 - val_accuracy: 0.3944\n",
            "Epoch 103/300\n",
            "3/3 [==============================] - 1s 273ms/step - loss: 2.9655 - accuracy: 0.5724 - val_loss: 3.1685 - val_accuracy: 0.3521\n",
            "Epoch 104/300\n",
            "3/3 [==============================] - 1s 250ms/step - loss: 2.9399 - accuracy: 0.5583 - val_loss: 3.2018 - val_accuracy: 0.3944\n",
            "Epoch 105/300\n",
            "3/3 [==============================] - 1s 254ms/step - loss: 2.9284 - accuracy: 0.5336 - val_loss: 3.1689 - val_accuracy: 0.3380\n",
            "Epoch 106/300\n",
            "3/3 [==============================] - 1s 252ms/step - loss: 2.9187 - accuracy: 0.5548 - val_loss: 3.1586 - val_accuracy: 0.3380\n",
            "Epoch 107/300\n",
            "3/3 [==============================] - 1s 251ms/step - loss: 2.9092 - accuracy: 0.5406 - val_loss: 3.1561 - val_accuracy: 0.3662\n",
            "Epoch 108/300\n",
            "3/3 [==============================] - 1s 252ms/step - loss: 2.8967 - accuracy: 0.5689 - val_loss: 3.1693 - val_accuracy: 0.3521\n",
            "Epoch 109/300\n",
            "3/3 [==============================] - 1s 252ms/step - loss: 2.8920 - accuracy: 0.5654 - val_loss: 3.1484 - val_accuracy: 0.3803\n",
            "Epoch 110/300\n",
            "3/3 [==============================] - 1s 253ms/step - loss: 2.8773 - accuracy: 0.5689 - val_loss: 3.2436 - val_accuracy: 0.3803\n",
            "Epoch 111/300\n",
            "3/3 [==============================] - 1s 253ms/step - loss: 2.9141 - accuracy: 0.5159 - val_loss: 3.1340 - val_accuracy: 0.3521\n",
            "Epoch 112/300\n",
            "3/3 [==============================] - 1s 252ms/step - loss: 2.9012 - accuracy: 0.5442 - val_loss: 3.1344 - val_accuracy: 0.3662\n",
            "Epoch 113/300\n",
            "3/3 [==============================] - 1s 253ms/step - loss: 2.8618 - accuracy: 0.5548 - val_loss: 3.1486 - val_accuracy: 0.3662\n",
            "Epoch 114/300\n",
            "3/3 [==============================] - 1s 246ms/step - loss: 2.8584 - accuracy: 0.5512 - val_loss: 3.1141 - val_accuracy: 0.3521\n",
            "Epoch 115/300\n",
            "3/3 [==============================] - 1s 278ms/step - loss: 2.8404 - accuracy: 0.5724 - val_loss: 3.1595 - val_accuracy: 0.3803\n",
            "Epoch 116/300\n",
            "3/3 [==============================] - 1s 253ms/step - loss: 2.8361 - accuracy: 0.5618 - val_loss: 3.1195 - val_accuracy: 0.3380\n",
            "Epoch 117/300\n",
            "3/3 [==============================] - 1s 261ms/step - loss: 2.8309 - accuracy: 0.5371 - val_loss: 3.1612 - val_accuracy: 0.3662\n",
            "Epoch 118/300\n",
            "3/3 [==============================] - 1s 253ms/step - loss: 2.8241 - accuracy: 0.5512 - val_loss: 3.1063 - val_accuracy: 0.3099\n",
            "Epoch 119/300\n",
            "3/3 [==============================] - 1s 258ms/step - loss: 2.8081 - accuracy: 0.5618 - val_loss: 3.0967 - val_accuracy: 0.3662\n",
            "Epoch 120/300\n",
            "3/3 [==============================] - 1s 246ms/step - loss: 2.8166 - accuracy: 0.5583 - val_loss: 3.0902 - val_accuracy: 0.3662\n",
            "Epoch 121/300\n",
            "3/3 [==============================] - 1s 249ms/step - loss: 2.7911 - accuracy: 0.5689 - val_loss: 3.1262 - val_accuracy: 0.3521\n",
            "Epoch 122/300\n",
            "3/3 [==============================] - 1s 257ms/step - loss: 2.7975 - accuracy: 0.5371 - val_loss: 3.1663 - val_accuracy: 0.4085\n",
            "Epoch 123/300\n",
            "3/3 [==============================] - 1s 249ms/step - loss: 2.8488 - accuracy: 0.5230 - val_loss: 3.0676 - val_accuracy: 0.3803\n",
            "Epoch 124/300\n",
            "3/3 [==============================] - 1s 254ms/step - loss: 2.8059 - accuracy: 0.5548 - val_loss: 3.0740 - val_accuracy: 0.4085\n",
            "Epoch 125/300\n",
            "3/3 [==============================] - 1s 251ms/step - loss: 2.8226 - accuracy: 0.5371 - val_loss: 3.0618 - val_accuracy: 0.3521\n",
            "Epoch 126/300\n",
            "3/3 [==============================] - 1s 251ms/step - loss: 2.7818 - accuracy: 0.5371 - val_loss: 3.0986 - val_accuracy: 0.3239\n",
            "Epoch 127/300\n",
            "3/3 [==============================] - 1s 251ms/step - loss: 2.7754 - accuracy: 0.5336 - val_loss: 3.2110 - val_accuracy: 0.3944\n",
            "Epoch 128/300\n",
            "3/3 [==============================] - 1s 252ms/step - loss: 2.8221 - accuracy: 0.5194 - val_loss: 3.0590 - val_accuracy: 0.3662\n",
            "Epoch 129/300\n",
            "3/3 [==============================] - 1s 253ms/step - loss: 2.8544 - accuracy: 0.4770 - val_loss: 3.0253 - val_accuracy: 0.3803\n",
            "Epoch 130/300\n",
            "3/3 [==============================] - 1s 254ms/step - loss: 2.7570 - accuracy: 0.5406 - val_loss: 3.1066 - val_accuracy: 0.4085\n",
            "Epoch 131/300\n",
            "3/3 [==============================] - 1s 257ms/step - loss: 2.7508 - accuracy: 0.5548 - val_loss: 3.0385 - val_accuracy: 0.3521\n",
            "Epoch 132/300\n",
            "3/3 [==============================] - 1s 266ms/step - loss: 2.7576 - accuracy: 0.5477 - val_loss: 3.1005 - val_accuracy: 0.3803\n",
            "Epoch 133/300\n",
            "3/3 [==============================] - 1s 258ms/step - loss: 2.7945 - accuracy: 0.5053 - val_loss: 3.0249 - val_accuracy: 0.3944\n",
            "Epoch 134/300\n",
            "3/3 [==============================] - 1s 263ms/step - loss: 2.7348 - accuracy: 0.5689 - val_loss: 3.0297 - val_accuracy: 0.3662\n",
            "Epoch 135/300\n",
            "3/3 [==============================] - 1s 259ms/step - loss: 2.7461 - accuracy: 0.5548 - val_loss: 3.0707 - val_accuracy: 0.3944\n",
            "Epoch 136/300\n",
            "3/3 [==============================] - 1s 252ms/step - loss: 2.7048 - accuracy: 0.5442 - val_loss: 3.0422 - val_accuracy: 0.3521\n",
            "Epoch 137/300\n",
            "3/3 [==============================] - 1s 254ms/step - loss: 2.7164 - accuracy: 0.5159 - val_loss: 3.0341 - val_accuracy: 0.3662\n",
            "Epoch 138/300\n",
            "3/3 [==============================] - 1s 253ms/step - loss: 2.6900 - accuracy: 0.5300 - val_loss: 3.0767 - val_accuracy: 0.4085\n",
            "Epoch 139/300\n",
            "3/3 [==============================] - 1s 254ms/step - loss: 2.7131 - accuracy: 0.5477 - val_loss: 3.0058 - val_accuracy: 0.3944\n",
            "Epoch 140/300\n",
            "3/3 [==============================] - 1s 251ms/step - loss: 2.6721 - accuracy: 0.5654 - val_loss: 3.0043 - val_accuracy: 0.4085\n",
            "Epoch 141/300\n",
            "3/3 [==============================] - 1s 254ms/step - loss: 2.6933 - accuracy: 0.5583 - val_loss: 3.0292 - val_accuracy: 0.3521\n",
            "Epoch 142/300\n",
            "3/3 [==============================] - 1s 255ms/step - loss: 2.6595 - accuracy: 0.5689 - val_loss: 3.0415 - val_accuracy: 0.3521\n",
            "Epoch 143/300\n",
            "3/3 [==============================] - 1s 257ms/step - loss: 2.6532 - accuracy: 0.5760 - val_loss: 2.9906 - val_accuracy: 0.3803\n",
            "Epoch 144/300\n",
            "3/3 [==============================] - 1s 256ms/step - loss: 2.6406 - accuracy: 0.5936 - val_loss: 3.0168 - val_accuracy: 0.3803\n",
            "Epoch 145/300\n",
            "3/3 [==============================] - 1s 252ms/step - loss: 2.6301 - accuracy: 0.5972 - val_loss: 2.9909 - val_accuracy: 0.3099\n",
            "Epoch 146/300\n",
            "3/3 [==============================] - 1s 257ms/step - loss: 2.6286 - accuracy: 0.5936 - val_loss: 3.0048 - val_accuracy: 0.3803\n",
            "Epoch 147/300\n",
            "3/3 [==============================] - 1s 261ms/step - loss: 2.6155 - accuracy: 0.5901 - val_loss: 2.9860 - val_accuracy: 0.3380\n",
            "Epoch 148/300\n",
            "3/3 [==============================] - 1s 256ms/step - loss: 2.6164 - accuracy: 0.5830 - val_loss: 2.9989 - val_accuracy: 0.3662\n",
            "Epoch 149/300\n",
            "3/3 [==============================] - 1s 256ms/step - loss: 2.6037 - accuracy: 0.6007 - val_loss: 2.9946 - val_accuracy: 0.3803\n",
            "Epoch 150/300\n",
            "3/3 [==============================] - 1s 255ms/step - loss: 2.5977 - accuracy: 0.6042 - val_loss: 2.9992 - val_accuracy: 0.3380\n",
            "Epoch 151/300\n",
            "3/3 [==============================] - 1s 260ms/step - loss: 2.5864 - accuracy: 0.5901 - val_loss: 3.0886 - val_accuracy: 0.3380\n",
            "Epoch 152/300\n",
            "3/3 [==============================] - 1s 256ms/step - loss: 2.6070 - accuracy: 0.5689 - val_loss: 2.9802 - val_accuracy: 0.4225\n",
            "Epoch 153/300\n",
            "3/3 [==============================] - 1s 249ms/step - loss: 2.5931 - accuracy: 0.5972 - val_loss: 3.0046 - val_accuracy: 0.4085\n",
            "Epoch 154/300\n",
            "3/3 [==============================] - 1s 253ms/step - loss: 2.5753 - accuracy: 0.6148 - val_loss: 3.0060 - val_accuracy: 0.3239\n",
            "Epoch 155/300\n",
            "3/3 [==============================] - 1s 259ms/step - loss: 2.5771 - accuracy: 0.5866 - val_loss: 3.0064 - val_accuracy: 0.3099\n",
            "Epoch 156/300\n",
            "3/3 [==============================] - 1s 255ms/step - loss: 2.5590 - accuracy: 0.5901 - val_loss: 3.0386 - val_accuracy: 0.3380\n",
            "Epoch 157/300\n",
            "3/3 [==============================] - 1s 251ms/step - loss: 2.5664 - accuracy: 0.6184 - val_loss: 2.9684 - val_accuracy: 0.3521\n",
            "Epoch 158/300\n",
            "3/3 [==============================] - 1s 259ms/step - loss: 2.5426 - accuracy: 0.6113 - val_loss: 2.9714 - val_accuracy: 0.3521\n",
            "Epoch 159/300\n",
            "3/3 [==============================] - 1s 248ms/step - loss: 2.5314 - accuracy: 0.6078 - val_loss: 2.9689 - val_accuracy: 0.3662\n",
            "Epoch 160/300\n",
            "3/3 [==============================] - 1s 260ms/step - loss: 2.5541 - accuracy: 0.5724 - val_loss: 2.9885 - val_accuracy: 0.3521\n",
            "Epoch 161/300\n",
            "3/3 [==============================] - 1s 252ms/step - loss: 2.5205 - accuracy: 0.6148 - val_loss: 2.9710 - val_accuracy: 0.3803\n",
            "Epoch 162/300\n",
            "3/3 [==============================] - 1s 250ms/step - loss: 2.5280 - accuracy: 0.6184 - val_loss: 2.9478 - val_accuracy: 0.3662\n",
            "Epoch 163/300\n",
            "3/3 [==============================] - 1s 252ms/step - loss: 2.5182 - accuracy: 0.6325 - val_loss: 3.0080 - val_accuracy: 0.3380\n",
            "Epoch 164/300\n",
            "3/3 [==============================] - 1s 253ms/step - loss: 2.5210 - accuracy: 0.6007 - val_loss: 2.9622 - val_accuracy: 0.3521\n",
            "Epoch 165/300\n",
            "3/3 [==============================] - 1s 274ms/step - loss: 2.5424 - accuracy: 0.5795 - val_loss: 2.9705 - val_accuracy: 0.3944\n",
            "Epoch 166/300\n",
            "3/3 [==============================] - 1s 254ms/step - loss: 2.5063 - accuracy: 0.6325 - val_loss: 2.9856 - val_accuracy: 0.3380\n",
            "Epoch 167/300\n",
            "3/3 [==============================] - 1s 252ms/step - loss: 2.4797 - accuracy: 0.6042 - val_loss: 2.9590 - val_accuracy: 0.3662\n",
            "Epoch 168/300\n",
            "3/3 [==============================] - 1s 245ms/step - loss: 2.5004 - accuracy: 0.5830 - val_loss: 2.9777 - val_accuracy: 0.3380\n",
            "Epoch 169/300\n",
            "3/3 [==============================] - 1s 253ms/step - loss: 2.4709 - accuracy: 0.6078 - val_loss: 2.9498 - val_accuracy: 0.3521\n",
            "Epoch 170/300\n",
            "3/3 [==============================] - 1s 251ms/step - loss: 2.4685 - accuracy: 0.6113 - val_loss: 2.9497 - val_accuracy: 0.3521\n",
            "Epoch 171/300\n",
            "3/3 [==============================] - 1s 256ms/step - loss: 2.4623 - accuracy: 0.6042 - val_loss: 2.9536 - val_accuracy: 0.3239\n",
            "Epoch 172/300\n",
            "3/3 [==============================] - 1s 280ms/step - loss: 2.4530 - accuracy: 0.6113 - val_loss: 2.9725 - val_accuracy: 0.3099\n",
            "Epoch 173/300\n",
            "3/3 [==============================] - 1s 255ms/step - loss: 2.4542 - accuracy: 0.6078 - val_loss: 2.9595 - val_accuracy: 0.3239\n",
            "Epoch 174/300\n",
            "3/3 [==============================] - 1s 249ms/step - loss: 2.4421 - accuracy: 0.6113 - val_loss: 2.9726 - val_accuracy: 0.3803\n",
            "Epoch 175/300\n",
            "3/3 [==============================] - 1s 248ms/step - loss: 2.4500 - accuracy: 0.6290 - val_loss: 2.9544 - val_accuracy: 0.3803\n",
            "Epoch 176/300\n",
            "3/3 [==============================] - 1s 251ms/step - loss: 2.4368 - accuracy: 0.6396 - val_loss: 2.9656 - val_accuracy: 0.3662\n",
            "Epoch 177/300\n",
            "3/3 [==============================] - 1s 248ms/step - loss: 2.4231 - accuracy: 0.6572 - val_loss: 2.9624 - val_accuracy: 0.3803\n",
            "Epoch 178/300\n",
            "3/3 [==============================] - 1s 256ms/step - loss: 2.4115 - accuracy: 0.6537 - val_loss: 2.9540 - val_accuracy: 0.3662\n",
            "Epoch 179/300\n",
            "3/3 [==============================] - 1s 256ms/step - loss: 2.4107 - accuracy: 0.6254 - val_loss: 3.0246 - val_accuracy: 0.3380\n",
            "Epoch 180/300\n",
            "3/3 [==============================] - 1s 251ms/step - loss: 2.4243 - accuracy: 0.6042 - val_loss: 2.9678 - val_accuracy: 0.3239\n",
            "Epoch 181/300\n",
            "3/3 [==============================] - 1s 260ms/step - loss: 2.4202 - accuracy: 0.6184 - val_loss: 2.9620 - val_accuracy: 0.3803\n",
            "Epoch 182/300\n",
            "3/3 [==============================] - 1s 274ms/step - loss: 2.4077 - accuracy: 0.6360 - val_loss: 2.9693 - val_accuracy: 0.3380\n",
            "Epoch 183/300\n",
            "3/3 [==============================] - 1s 254ms/step - loss: 2.3913 - accuracy: 0.6325 - val_loss: 2.9569 - val_accuracy: 0.3380\n",
            "Epoch 184/300\n",
            "3/3 [==============================] - 1s 279ms/step - loss: 2.3907 - accuracy: 0.6325 - val_loss: 3.0012 - val_accuracy: 0.3239\n",
            "Epoch 185/300\n",
            "3/3 [==============================] - 1s 257ms/step - loss: 2.3947 - accuracy: 0.6396 - val_loss: 2.9567 - val_accuracy: 0.3662\n",
            "Epoch 186/300\n",
            "3/3 [==============================] - 1s 254ms/step - loss: 2.3983 - accuracy: 0.6184 - val_loss: 3.0248 - val_accuracy: 0.3521\n",
            "Epoch 187/300\n",
            "3/3 [==============================] - 1s 280ms/step - loss: 2.3707 - accuracy: 0.6396 - val_loss: 2.9549 - val_accuracy: 0.3521\n",
            "Epoch 188/300\n",
            "3/3 [==============================] - 1s 252ms/step - loss: 2.3805 - accuracy: 0.6148 - val_loss: 3.0268 - val_accuracy: 0.3239\n",
            "Epoch 189/300\n",
            "3/3 [==============================] - 1s 254ms/step - loss: 2.4002 - accuracy: 0.6290 - val_loss: 2.9720 - val_accuracy: 0.3380\n",
            "Epoch 190/300\n",
            "3/3 [==============================] - 1s 246ms/step - loss: 2.3424 - accuracy: 0.6537 - val_loss: 2.9964 - val_accuracy: 0.3380\n",
            "Epoch 191/300\n",
            "3/3 [==============================] - 1s 254ms/step - loss: 2.3430 - accuracy: 0.6396 - val_loss: 3.0020 - val_accuracy: 0.3239\n",
            "Epoch 192/300\n",
            "3/3 [==============================] - 1s 262ms/step - loss: 2.3521 - accuracy: 0.6466 - val_loss: 2.9558 - val_accuracy: 0.3521\n",
            "Epoch 193/300\n",
            "3/3 [==============================] - 1s 246ms/step - loss: 2.3654 - accuracy: 0.6254 - val_loss: 3.0280 - val_accuracy: 0.3380\n",
            "Epoch 194/300\n",
            "3/3 [==============================] - 1s 260ms/step - loss: 2.3577 - accuracy: 0.6608 - val_loss: 2.9513 - val_accuracy: 0.3662\n",
            "Epoch 195/300\n",
            "3/3 [==============================] - 1s 251ms/step - loss: 2.4018 - accuracy: 0.6148 - val_loss: 2.9977 - val_accuracy: 0.3099\n",
            "Epoch 196/300\n",
            "3/3 [==============================] - 1s 255ms/step - loss: 2.3860 - accuracy: 0.6219 - val_loss: 2.9515 - val_accuracy: 0.3662\n",
            "Epoch 197/300\n",
            "3/3 [==============================] - 1s 254ms/step - loss: 2.4054 - accuracy: 0.5936 - val_loss: 3.0029 - val_accuracy: 0.3380\n",
            "Epoch 198/300\n",
            "3/3 [==============================] - 1s 254ms/step - loss: 2.3496 - accuracy: 0.6254 - val_loss: 2.9463 - val_accuracy: 0.3521\n",
            "Epoch 199/300\n",
            "3/3 [==============================] - 1s 253ms/step - loss: 2.3132 - accuracy: 0.6537 - val_loss: 2.9449 - val_accuracy: 0.3380\n",
            "Epoch 200/300\n",
            "3/3 [==============================] - 1s 250ms/step - loss: 2.3312 - accuracy: 0.6537 - val_loss: 2.9587 - val_accuracy: 0.3662\n",
            "Epoch 201/300\n",
            "3/3 [==============================] - 1s 249ms/step - loss: 2.2951 - accuracy: 0.6502 - val_loss: 2.9802 - val_accuracy: 0.3380\n",
            "Epoch 202/300\n",
            "3/3 [==============================] - 1s 250ms/step - loss: 2.3041 - accuracy: 0.6325 - val_loss: 2.9409 - val_accuracy: 0.3239\n",
            "Epoch 203/300\n",
            "3/3 [==============================] - 1s 252ms/step - loss: 2.2791 - accuracy: 0.6890 - val_loss: 2.9423 - val_accuracy: 0.3521\n",
            "Epoch 204/300\n",
            "3/3 [==============================] - 1s 254ms/step - loss: 2.2918 - accuracy: 0.6678 - val_loss: 2.9629 - val_accuracy: 0.3239\n",
            "Epoch 205/300\n",
            "3/3 [==============================] - 1s 253ms/step - loss: 2.2739 - accuracy: 0.6714 - val_loss: 2.9481 - val_accuracy: 0.3521\n",
            "Epoch 206/300\n",
            "3/3 [==============================] - 1s 252ms/step - loss: 2.2654 - accuracy: 0.6855 - val_loss: 2.9738 - val_accuracy: 0.3521\n",
            "Epoch 207/300\n",
            "3/3 [==============================] - 1s 255ms/step - loss: 2.2561 - accuracy: 0.6608 - val_loss: 2.9462 - val_accuracy: 0.3239\n",
            "Epoch 208/300\n",
            "3/3 [==============================] - 1s 252ms/step - loss: 2.2501 - accuracy: 0.6572 - val_loss: 3.0076 - val_accuracy: 0.3380\n",
            "Epoch 209/300\n",
            "3/3 [==============================] - 1s 256ms/step - loss: 2.2614 - accuracy: 0.6820 - val_loss: 2.9513 - val_accuracy: 0.3521\n",
            "Epoch 210/300\n",
            "3/3 [==============================] - 1s 251ms/step - loss: 2.2498 - accuracy: 0.6643 - val_loss: 2.9767 - val_accuracy: 0.3380\n",
            "Epoch 211/300\n",
            "3/3 [==============================] - 1s 255ms/step - loss: 2.2345 - accuracy: 0.6890 - val_loss: 2.9556 - val_accuracy: 0.3662\n",
            "Epoch 212/300\n",
            "3/3 [==============================] - 1s 254ms/step - loss: 2.2233 - accuracy: 0.6784 - val_loss: 2.9714 - val_accuracy: 0.3239\n",
            "Epoch 213/300\n",
            "3/3 [==============================] - 1s 253ms/step - loss: 2.2188 - accuracy: 0.6820 - val_loss: 2.9632 - val_accuracy: 0.3521\n",
            "Epoch 214/300\n",
            "3/3 [==============================] - 1s 256ms/step - loss: 2.2111 - accuracy: 0.6678 - val_loss: 2.9840 - val_accuracy: 0.3521\n",
            "Epoch 215/300\n",
            "3/3 [==============================] - 1s 254ms/step - loss: 2.2034 - accuracy: 0.6749 - val_loss: 2.9812 - val_accuracy: 0.3521\n",
            "Epoch 216/300\n",
            "3/3 [==============================] - 1s 258ms/step - loss: 2.2078 - accuracy: 0.6714 - val_loss: 2.9837 - val_accuracy: 0.3239\n",
            "Epoch 217/300\n",
            "3/3 [==============================] - 1s 249ms/step - loss: 2.1873 - accuracy: 0.6820 - val_loss: 2.9778 - val_accuracy: 0.3662\n",
            "Epoch 218/300\n",
            "3/3 [==============================] - 1s 255ms/step - loss: 2.1849 - accuracy: 0.6926 - val_loss: 2.9994 - val_accuracy: 0.3239\n",
            "Epoch 219/300\n",
            "3/3 [==============================] - 1s 256ms/step - loss: 2.1749 - accuracy: 0.6784 - val_loss: 3.0031 - val_accuracy: 0.3380\n",
            "Epoch 220/300\n",
            "3/3 [==============================] - 1s 253ms/step - loss: 2.1743 - accuracy: 0.6749 - val_loss: 2.9957 - val_accuracy: 0.3521\n",
            "Epoch 221/300\n",
            "3/3 [==============================] - 1s 253ms/step - loss: 2.1737 - accuracy: 0.6855 - val_loss: 3.0177 - val_accuracy: 0.3521\n",
            "Epoch 222/300\n",
            "3/3 [==============================] - 1s 256ms/step - loss: 2.1655 - accuracy: 0.6890 - val_loss: 3.0069 - val_accuracy: 0.3521\n",
            "Epoch 223/300\n",
            "3/3 [==============================] - 1s 252ms/step - loss: 2.2162 - accuracy: 0.6749 - val_loss: 3.0839 - val_accuracy: 0.3521\n",
            "Epoch 224/300\n",
            "3/3 [==============================] - 1s 254ms/step - loss: 2.1634 - accuracy: 0.6890 - val_loss: 3.0158 - val_accuracy: 0.3380\n",
            "Epoch 225/300\n",
            "3/3 [==============================] - 1s 253ms/step - loss: 2.1667 - accuracy: 0.6961 - val_loss: 3.0604 - val_accuracy: 0.2958\n",
            "Epoch 226/300\n",
            "3/3 [==============================] - 1s 255ms/step - loss: 2.1344 - accuracy: 0.6926 - val_loss: 3.0456 - val_accuracy: 0.3380\n",
            "Epoch 227/300\n",
            "3/3 [==============================] - 1s 257ms/step - loss: 2.1858 - accuracy: 0.6714 - val_loss: 3.0621 - val_accuracy: 0.3099\n",
            "Epoch 228/300\n",
            "3/3 [==============================] - 1s 250ms/step - loss: 2.1423 - accuracy: 0.6926 - val_loss: 3.0239 - val_accuracy: 0.3380\n",
            "Epoch 229/300\n",
            "3/3 [==============================] - 1s 248ms/step - loss: 2.1281 - accuracy: 0.7173 - val_loss: 3.1381 - val_accuracy: 0.2817\n",
            "Epoch 230/300\n",
            "3/3 [==============================] - 1s 248ms/step - loss: 2.1439 - accuracy: 0.6784 - val_loss: 3.0716 - val_accuracy: 0.3380\n",
            "Epoch 231/300\n",
            "3/3 [==============================] - 1s 254ms/step - loss: 2.1383 - accuracy: 0.6678 - val_loss: 3.0576 - val_accuracy: 0.3662\n",
            "Epoch 232/300\n",
            "3/3 [==============================] - 1s 277ms/step - loss: 2.1129 - accuracy: 0.6996 - val_loss: 3.0981 - val_accuracy: 0.3099\n",
            "Epoch 233/300\n",
            "3/3 [==============================] - 1s 252ms/step - loss: 2.1415 - accuracy: 0.6820 - val_loss: 3.0129 - val_accuracy: 0.3239\n",
            "Epoch 234/300\n",
            "3/3 [==============================] - 1s 255ms/step - loss: 2.1125 - accuracy: 0.7244 - val_loss: 3.0660 - val_accuracy: 0.2958\n",
            "Epoch 235/300\n",
            "3/3 [==============================] - 1s 254ms/step - loss: 2.1034 - accuracy: 0.7173 - val_loss: 3.0406 - val_accuracy: 0.3239\n",
            "Epoch 236/300\n",
            "3/3 [==============================] - 1s 257ms/step - loss: 2.0997 - accuracy: 0.7067 - val_loss: 3.1213 - val_accuracy: 0.3521\n",
            "Epoch 237/300\n",
            "3/3 [==============================] - 1s 257ms/step - loss: 2.0879 - accuracy: 0.7138 - val_loss: 3.0557 - val_accuracy: 0.3239\n",
            "Epoch 238/300\n",
            "3/3 [==============================] - 1s 258ms/step - loss: 2.0954 - accuracy: 0.6926 - val_loss: 3.1026 - val_accuracy: 0.3239\n",
            "Epoch 239/300\n",
            "3/3 [==============================] - 1s 254ms/step - loss: 2.0858 - accuracy: 0.6996 - val_loss: 3.0855 - val_accuracy: 0.3521\n",
            "Epoch 240/300\n",
            "3/3 [==============================] - 1s 253ms/step - loss: 2.0684 - accuracy: 0.7279 - val_loss: 3.0700 - val_accuracy: 0.3521\n",
            "Epoch 241/300\n",
            "3/3 [==============================] - 1s 257ms/step - loss: 2.0742 - accuracy: 0.7314 - val_loss: 3.0507 - val_accuracy: 0.3803\n",
            "Epoch 242/300\n",
            "3/3 [==============================] - 1s 253ms/step - loss: 2.0502 - accuracy: 0.7420 - val_loss: 3.2292 - val_accuracy: 0.3239\n",
            "Epoch 243/300\n",
            "3/3 [==============================] - 1s 254ms/step - loss: 2.0997 - accuracy: 0.6890 - val_loss: 3.0678 - val_accuracy: 0.3521\n",
            "Epoch 244/300\n",
            "3/3 [==============================] - 1s 253ms/step - loss: 2.0421 - accuracy: 0.7208 - val_loss: 3.0872 - val_accuracy: 0.3380\n",
            "Epoch 245/300\n",
            "3/3 [==============================] - 1s 258ms/step - loss: 2.0470 - accuracy: 0.7208 - val_loss: 3.0724 - val_accuracy: 0.3521\n",
            "Epoch 246/300\n",
            "3/3 [==============================] - 1s 251ms/step - loss: 2.0315 - accuracy: 0.7385 - val_loss: 3.1586 - val_accuracy: 0.3380\n",
            "Epoch 247/300\n",
            "3/3 [==============================] - 1s 252ms/step - loss: 2.0432 - accuracy: 0.7067 - val_loss: 3.1066 - val_accuracy: 0.3380\n",
            "Epoch 248/300\n",
            "3/3 [==============================] - 1s 255ms/step - loss: 2.0669 - accuracy: 0.6926 - val_loss: 3.1216 - val_accuracy: 0.3239\n",
            "Epoch 249/300\n",
            "3/3 [==============================] - 1s 257ms/step - loss: 2.0223 - accuracy: 0.7456 - val_loss: 3.1124 - val_accuracy: 0.3239\n",
            "Epoch 250/300\n",
            "3/3 [==============================] - 1s 247ms/step - loss: 2.0427 - accuracy: 0.7208 - val_loss: 3.2888 - val_accuracy: 0.3239\n",
            "Epoch 251/300\n",
            "3/3 [==============================] - 1s 257ms/step - loss: 2.0389 - accuracy: 0.7173 - val_loss: 3.1030 - val_accuracy: 0.3380\n",
            "Epoch 252/300\n",
            "3/3 [==============================] - 1s 248ms/step - loss: 2.0147 - accuracy: 0.7244 - val_loss: 3.1821 - val_accuracy: 0.2817\n",
            "Epoch 253/300\n",
            "3/3 [==============================] - 1s 257ms/step - loss: 2.0136 - accuracy: 0.7244 - val_loss: 3.1384 - val_accuracy: 0.3380\n",
            "Epoch 254/300\n",
            "3/3 [==============================] - 1s 257ms/step - loss: 2.0100 - accuracy: 0.7420 - val_loss: 3.2762 - val_accuracy: 0.2958\n",
            "Epoch 255/300\n",
            "3/3 [==============================] - 1s 257ms/step - loss: 2.0513 - accuracy: 0.6890 - val_loss: 3.1047 - val_accuracy: 0.3239\n",
            "Epoch 256/300\n",
            "3/3 [==============================] - 1s 255ms/step - loss: 2.0354 - accuracy: 0.7385 - val_loss: 3.1166 - val_accuracy: 0.3521\n",
            "Epoch 257/300\n",
            "3/3 [==============================] - 1s 258ms/step - loss: 2.0054 - accuracy: 0.7420 - val_loss: 3.1079 - val_accuracy: 0.3380\n",
            "Epoch 258/300\n",
            "3/3 [==============================] - 1s 260ms/step - loss: 1.9756 - accuracy: 0.7420 - val_loss: 3.1327 - val_accuracy: 0.3380\n",
            "Epoch 259/300\n",
            "3/3 [==============================] - 1s 251ms/step - loss: 1.9636 - accuracy: 0.7420 - val_loss: 3.1568 - val_accuracy: 0.3099\n",
            "Epoch 260/300\n",
            "3/3 [==============================] - 1s 252ms/step - loss: 1.9920 - accuracy: 0.7314 - val_loss: 3.1982 - val_accuracy: 0.2676\n",
            "Epoch 261/300\n",
            "3/3 [==============================] - 1s 257ms/step - loss: 2.1085 - accuracy: 0.6820 - val_loss: 3.3772 - val_accuracy: 0.2817\n",
            "Epoch 262/300\n",
            "3/3 [==============================] - 1s 256ms/step - loss: 2.0854 - accuracy: 0.6502 - val_loss: 3.1641 - val_accuracy: 0.2535\n",
            "Epoch 263/300\n",
            "3/3 [==============================] - 1s 249ms/step - loss: 2.0412 - accuracy: 0.7279 - val_loss: 3.3376 - val_accuracy: 0.2676\n",
            "Epoch 264/300\n",
            "3/3 [==============================] - 1s 261ms/step - loss: 2.1489 - accuracy: 0.6608 - val_loss: 3.1538 - val_accuracy: 0.2535\n",
            "Epoch 265/300\n",
            "3/3 [==============================] - 1s 257ms/step - loss: 2.1362 - accuracy: 0.6608 - val_loss: 3.2174 - val_accuracy: 0.3380\n",
            "Epoch 266/300\n",
            "3/3 [==============================] - 1s 258ms/step - loss: 2.0631 - accuracy: 0.6926 - val_loss: 3.0966 - val_accuracy: 0.3380\n",
            "Epoch 267/300\n",
            "3/3 [==============================] - 1s 246ms/step - loss: 1.9766 - accuracy: 0.7350 - val_loss: 3.1336 - val_accuracy: 0.3239\n",
            "Epoch 268/300\n",
            "3/3 [==============================] - 1s 251ms/step - loss: 1.9754 - accuracy: 0.7527 - val_loss: 3.2916 - val_accuracy: 0.2676\n",
            "Epoch 269/300\n",
            "3/3 [==============================] - 1s 257ms/step - loss: 2.0195 - accuracy: 0.7067 - val_loss: 3.1104 - val_accuracy: 0.3239\n",
            "Epoch 270/300\n",
            "3/3 [==============================] - 1s 262ms/step - loss: 1.9875 - accuracy: 0.7420 - val_loss: 3.1055 - val_accuracy: 0.2958\n",
            "Epoch 271/300\n",
            "3/3 [==============================] - 1s 252ms/step - loss: 1.9464 - accuracy: 0.7456 - val_loss: 3.0709 - val_accuracy: 0.3521\n",
            "Epoch 272/300\n",
            "3/3 [==============================] - 1s 247ms/step - loss: 1.9674 - accuracy: 0.7703 - val_loss: 3.0933 - val_accuracy: 0.3521\n",
            "Epoch 273/300\n",
            "3/3 [==============================] - 1s 252ms/step - loss: 1.9589 - accuracy: 0.7420 - val_loss: 3.1286 - val_accuracy: 0.3380\n",
            "Epoch 274/300\n",
            "3/3 [==============================] - 1s 253ms/step - loss: 1.9184 - accuracy: 0.7633 - val_loss: 3.0905 - val_accuracy: 0.3239\n",
            "Epoch 275/300\n",
            "3/3 [==============================] - 1s 257ms/step - loss: 1.8923 - accuracy: 0.7703 - val_loss: 3.1796 - val_accuracy: 0.3099\n",
            "Epoch 276/300\n",
            "3/3 [==============================] - 1s 255ms/step - loss: 1.9091 - accuracy: 0.7739 - val_loss: 3.0917 - val_accuracy: 0.3380\n",
            "Epoch 277/300\n",
            "3/3 [==============================] - 1s 256ms/step - loss: 1.8859 - accuracy: 0.7845 - val_loss: 3.1443 - val_accuracy: 0.3099\n",
            "Epoch 278/300\n",
            "3/3 [==============================] - 1s 255ms/step - loss: 1.8796 - accuracy: 0.7809 - val_loss: 3.1228 - val_accuracy: 0.3521\n",
            "Epoch 279/300\n",
            "3/3 [==============================] - 1s 251ms/step - loss: 1.8633 - accuracy: 0.7845 - val_loss: 3.1313 - val_accuracy: 0.3521\n",
            "Epoch 280/300\n",
            "3/3 [==============================] - 1s 280ms/step - loss: 1.8651 - accuracy: 0.7915 - val_loss: 3.1633 - val_accuracy: 0.3099\n",
            "Epoch 281/300\n",
            "3/3 [==============================] - 1s 256ms/step - loss: 1.8658 - accuracy: 0.7880 - val_loss: 3.1730 - val_accuracy: 0.3099\n",
            "Epoch 282/300\n",
            "3/3 [==============================] - 1s 255ms/step - loss: 1.8566 - accuracy: 0.7845 - val_loss: 3.2416 - val_accuracy: 0.3239\n",
            "Epoch 283/300\n",
            "3/3 [==============================] - 1s 256ms/step - loss: 1.8695 - accuracy: 0.7597 - val_loss: 3.1976 - val_accuracy: 0.3239\n",
            "Epoch 284/300\n",
            "3/3 [==============================] - 1s 261ms/step - loss: 1.8446 - accuracy: 0.7986 - val_loss: 3.2336 - val_accuracy: 0.3662\n",
            "Epoch 285/300\n",
            "3/3 [==============================] - 1s 251ms/step - loss: 1.8475 - accuracy: 0.7845 - val_loss: 3.2352 - val_accuracy: 0.3239\n",
            "Epoch 286/300\n",
            "3/3 [==============================] - 1s 252ms/step - loss: 1.8266 - accuracy: 0.7880 - val_loss: 3.2261 - val_accuracy: 0.3521\n",
            "Epoch 287/300\n",
            "3/3 [==============================] - 1s 280ms/step - loss: 1.8447 - accuracy: 0.8021 - val_loss: 3.2636 - val_accuracy: 0.3099\n",
            "Epoch 288/300\n",
            "3/3 [==============================] - 1s 261ms/step - loss: 1.8385 - accuracy: 0.8092 - val_loss: 3.2322 - val_accuracy: 0.3380\n",
            "Epoch 289/300\n",
            "3/3 [==============================] - 1s 258ms/step - loss: 1.8230 - accuracy: 0.8021 - val_loss: 3.2466 - val_accuracy: 0.3380\n",
            "Epoch 290/300\n",
            "3/3 [==============================] - 1s 259ms/step - loss: 1.7995 - accuracy: 0.8127 - val_loss: 3.2753 - val_accuracy: 0.3239\n",
            "Epoch 291/300\n",
            "3/3 [==============================] - 1s 255ms/step - loss: 1.8006 - accuracy: 0.8092 - val_loss: 3.2969 - val_accuracy: 0.3239\n",
            "Epoch 292/300\n",
            "3/3 [==============================] - 1s 253ms/step - loss: 1.8046 - accuracy: 0.8127 - val_loss: 3.3206 - val_accuracy: 0.3239\n",
            "Epoch 293/300\n",
            "3/3 [==============================] - 1s 252ms/step - loss: 1.8431 - accuracy: 0.7739 - val_loss: 3.4101 - val_accuracy: 0.3239\n",
            "Epoch 294/300\n",
            "3/3 [==============================] - 1s 248ms/step - loss: 1.8351 - accuracy: 0.7880 - val_loss: 3.3078 - val_accuracy: 0.3380\n",
            "Epoch 295/300\n",
            "3/3 [==============================] - 1s 261ms/step - loss: 1.7847 - accuracy: 0.8269 - val_loss: 3.3442 - val_accuracy: 0.3239\n",
            "Epoch 296/300\n",
            "3/3 [==============================] - 1s 253ms/step - loss: 1.7796 - accuracy: 0.8092 - val_loss: 3.3290 - val_accuracy: 0.3662\n",
            "Epoch 297/300\n",
            "3/3 [==============================] - 1s 275ms/step - loss: 1.7716 - accuracy: 0.8198 - val_loss: 3.3603 - val_accuracy: 0.3380\n",
            "Epoch 298/300\n",
            "3/3 [==============================] - 1s 256ms/step - loss: 1.7617 - accuracy: 0.8233 - val_loss: 3.3848 - val_accuracy: 0.3099\n",
            "Epoch 299/300\n",
            "3/3 [==============================] - 1s 285ms/step - loss: 1.7818 - accuracy: 0.7951 - val_loss: 3.3463 - val_accuracy: 0.3239\n",
            "Epoch 300/300\n",
            "3/3 [==============================] - 1s 246ms/step - loss: 1.7746 - accuracy: 0.8339 - val_loss: 3.3590 - val_accuracy: 0.3521\n"
          ]
        }
      ],
      "source": [
        "# Training the model\n",
        "epochs = 300\n",
        "batch_size = 128\n",
        "\n",
        "history = model.fit(X_train, Y_train, batch_size = batch_size, epochs = epochs, validation_data = (X_val, Y_val))"
      ]
    },
    {
      "cell_type": "markdown",
      "source": [
        "Here we analyse how the model is learing with each epoch in terms of accuracy."
      ],
      "metadata": {
        "id": "5cFZdyuQV9bx"
      }
    },
    {
      "cell_type": "code",
      "source": [
        "# Plot the training history\n",
        "plt.figure(figsize=(12,5))\n",
        "plt.plot(history.history['accuracy'], color='r')\n",
        "plt.plot(history.history['val_accuracy'],color='b')\n",
        "plt.title('Model Accuracy')\n",
        "plt.ylabel('Accuracy')\n",
        "plt.xlabel('Epochs')\n",
        "plt.legend(['train','val'])\n",
        "\n",
        "plt.show()"
      ],
      "metadata": {
        "colab": {
          "base_uri": "https://localhost:8080/",
          "height": 350
        },
        "id": "LwuUcVVDUIIy",
        "outputId": "1bab6910-c3c8-4b02-f925-d74568663e02"
      },
      "execution_count": 75,
      "outputs": [
        {
          "output_type": "display_data",
          "data": {
            "text/plain": [
              "<Figure size 864x360 with 1 Axes>"
            ],
            "image/png": "[encoded data removed]"
          },
          "metadata": {
            "needs_background": "light"
          }
        }
      ]
    },
    {
      "cell_type": "markdown",
      "source": [
        "We will use predict function to make predictions using this model also we are finding out the accuracy on the test set"
      ],
      "metadata": {
        "id": "wsJ7gyX6W0vI"
      }
    },
    {
      "cell_type": "code",
      "source": [
        "Y_pred = model.predict(X_test)\n",
        "score = model.evaluate(X_test, Y_test)\n",
        "print('Accuracy over the test set: \\n ',round((score[1]*100),2),'%')"
      ],
      "metadata": {
        "colab": {
          "base_uri": "https://localhost:8080/"
        },
        "id": "tqyIiVBKWPHd",
        "outputId": "2d34fe0a-4aec-426c-be35-4397fa821e63"
      },
      "execution_count": 76,
      "outputs": [
        {
          "output_type": "stream",
          "name": "stderr",
          "text": [
            "WARNING:tensorflow:5 out of the last 13 calls to <function Model.make_predict_function.<locals>.predict_function at 0x7f02d8853e60> triggered tf.function retracing. Tracing is expensive and the excessive number of tracings could be due to (1) creating @tf.function repeatedly in a loop, (2) passing tensors with different shapes, (3) passing Python objects instead of tensors. For (1), please define your @tf.function outside of the loop. For (2), @tf.function has experimental_relax_shapes=True option that relaxes argument shapes that can avoid unnecessary retracing. For (3), please refer to https://www.tensorflow.org/guide/function#controlling_retracing and https://www.tensorflow.org/api_docs/python/tf/function for  more details.\n"
          ]
        },
        {
          "output_type": "stream",
          "name": "stdout",
          "text": [
            "2/2 [==============================] - 0s 16ms/step - loss: 2.6627 - accuracy: 0.5250\n",
            "Accuracy over the test set: \n",
            "  52.5 %\n"
          ]
        }
      ]
    },
    {
      "cell_type": "markdown",
      "source": [
        "Image with original and prediction label "
      ],
      "metadata": {
        "id": "k-rufW0Da15u"
      }
    },
    {
      "cell_type": "code",
      "source": [
        "# Plotting image to compare\n",
        "plt.imshow(X_test[1,:,:,:])\n",
        "plt.show()\n",
        "\n",
        "# Finding max value from prediction list and comparing original value vs predicted\n",
        "print('Originally : ',labels['breed'][np.argmax(Y_test[1])])\n",
        "print('Predicted : ',labels['breed'][np.argmax(Y_pred[1])])"
      ],
      "metadata": {
        "colab": {
          "base_uri": "https://localhost:8080/",
          "height": 304
        },
        "id": "lsRzI0EbXObv",
        "outputId": "087da473-8fea-4b4b-cab2-658776e2a090"
      },
      "execution_count": 77,
      "outputs": [
        {
          "output_type": "display_data",
          "data": {
            "text/plain": [
              "<Figure size 432x288 with 1 Axes>"
            ],
            "image/png": "[encoded data removed]"
          },
          "metadata": {
            "needs_background": "light"
          }
        },
        {
          "output_type": "stream",
          "name": "stdout",
          "text": [
            "Originally :  dingo\n",
            "Predicted :  pekinese\n"
          ]
        }
      ]
    },
    {
      "cell_type": "code",
      "source": [
        "model.save('dogbreed.h5')"
      ],
      "metadata": {
        "id": "7bf0IJFCbBkv"
      },
      "execution_count": 78,
      "outputs": []
    }
  ],
  "metadata": {
    "accelerator": "GPU",
    "colab": {
      "name": "Dog Breed Prediction",
      "provenance": [],
      "authorship_tag": "ABX9TyN2cxdMkpiGruf4bXrJg7IB",
      "include_colab_link": true
    },
    "gpuClass": "standard",
    "kernelspec": {
      "display_name": "Python 3",
      "name": "python3"
    },
    "language_info": {
      "name": "python"
    }
  },
  "nbformat": 4,
  "nbformat_minor": 0
}